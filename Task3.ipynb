{
 "cells": [
  {
   "cell_type": "markdown",
   "metadata": {},
   "source": [
    "# GRIP:The Sparks Foundation\n",
    "GRIPNOVEMBER22\n",
    "Author: MASNA\n",
    "Data Science and Business Intelligence Intern\n",
    "\n",
    "##Exploratory Data Analysis-Retail\n",
    "\n",
    "Task:Perform Exploratory Data Analysis on 'SampleSuperstore' data set and to find out the week areas to work upon to make profit\n",
    "\n",
    "\n"
   ]
  },
  {
   "cell_type": "code",
   "execution_count": null,
   "metadata": {},
   "outputs": [],
   "source": [
    "#importing libraries"
   ]
  },
  {
   "cell_type": "code",
   "execution_count": 1,
   "metadata": {},
   "outputs": [],
   "source": [
    "import numpy as np\n",
    "import pandas as pd\n",
    "import matplotlib.pyplot as plt\n",
    "import seaborn as sns\n",
    "\n",
    "%matplotlib inline"
   ]
  },
  {
   "cell_type": "code",
   "execution_count": 2,
   "metadata": {},
   "outputs": [],
   "source": [
    "df=pd.read_csv(\"SampleSuperstore.csv\")"
   ]
  },
  {
   "cell_type": "code",
   "execution_count": 3,
   "metadata": {},
   "outputs": [
    {
     "data": {
      "text/html": [
       "<div>\n",
       "<style scoped>\n",
       "    .dataframe tbody tr th:only-of-type {\n",
       "        vertical-align: middle;\n",
       "    }\n",
       "\n",
       "    .dataframe tbody tr th {\n",
       "        vertical-align: top;\n",
       "    }\n",
       "\n",
       "    .dataframe thead th {\n",
       "        text-align: right;\n",
       "    }\n",
       "</style>\n",
       "<table border=\"1\" class=\"dataframe\">\n",
       "  <thead>\n",
       "    <tr style=\"text-align: right;\">\n",
       "      <th></th>\n",
       "      <th>Ship Mode</th>\n",
       "      <th>Segment</th>\n",
       "      <th>Country</th>\n",
       "      <th>City</th>\n",
       "      <th>State</th>\n",
       "      <th>Postal Code</th>\n",
       "      <th>Region</th>\n",
       "      <th>Category</th>\n",
       "      <th>Sub-Category</th>\n",
       "      <th>Sales</th>\n",
       "      <th>Quantity</th>\n",
       "      <th>Discount</th>\n",
       "      <th>Profit</th>\n",
       "    </tr>\n",
       "  </thead>\n",
       "  <tbody>\n",
       "    <tr>\n",
       "      <th>0</th>\n",
       "      <td>Second Class</td>\n",
       "      <td>Consumer</td>\n",
       "      <td>United States</td>\n",
       "      <td>Henderson</td>\n",
       "      <td>Kentucky</td>\n",
       "      <td>42420</td>\n",
       "      <td>South</td>\n",
       "      <td>Furniture</td>\n",
       "      <td>Bookcases</td>\n",
       "      <td>261.9600</td>\n",
       "      <td>2</td>\n",
       "      <td>0.00</td>\n",
       "      <td>41.9136</td>\n",
       "    </tr>\n",
       "    <tr>\n",
       "      <th>1</th>\n",
       "      <td>Second Class</td>\n",
       "      <td>Consumer</td>\n",
       "      <td>United States</td>\n",
       "      <td>Henderson</td>\n",
       "      <td>Kentucky</td>\n",
       "      <td>42420</td>\n",
       "      <td>South</td>\n",
       "      <td>Furniture</td>\n",
       "      <td>Chairs</td>\n",
       "      <td>731.9400</td>\n",
       "      <td>3</td>\n",
       "      <td>0.00</td>\n",
       "      <td>219.5820</td>\n",
       "    </tr>\n",
       "    <tr>\n",
       "      <th>2</th>\n",
       "      <td>Second Class</td>\n",
       "      <td>Corporate</td>\n",
       "      <td>United States</td>\n",
       "      <td>Los Angeles</td>\n",
       "      <td>California</td>\n",
       "      <td>90036</td>\n",
       "      <td>West</td>\n",
       "      <td>Office Supplies</td>\n",
       "      <td>Labels</td>\n",
       "      <td>14.6200</td>\n",
       "      <td>2</td>\n",
       "      <td>0.00</td>\n",
       "      <td>6.8714</td>\n",
       "    </tr>\n",
       "    <tr>\n",
       "      <th>3</th>\n",
       "      <td>Standard Class</td>\n",
       "      <td>Consumer</td>\n",
       "      <td>United States</td>\n",
       "      <td>Fort Lauderdale</td>\n",
       "      <td>Florida</td>\n",
       "      <td>33311</td>\n",
       "      <td>South</td>\n",
       "      <td>Furniture</td>\n",
       "      <td>Tables</td>\n",
       "      <td>957.5775</td>\n",
       "      <td>5</td>\n",
       "      <td>0.45</td>\n",
       "      <td>-383.0310</td>\n",
       "    </tr>\n",
       "    <tr>\n",
       "      <th>4</th>\n",
       "      <td>Standard Class</td>\n",
       "      <td>Consumer</td>\n",
       "      <td>United States</td>\n",
       "      <td>Fort Lauderdale</td>\n",
       "      <td>Florida</td>\n",
       "      <td>33311</td>\n",
       "      <td>South</td>\n",
       "      <td>Office Supplies</td>\n",
       "      <td>Storage</td>\n",
       "      <td>22.3680</td>\n",
       "      <td>2</td>\n",
       "      <td>0.20</td>\n",
       "      <td>2.5164</td>\n",
       "    </tr>\n",
       "  </tbody>\n",
       "</table>\n",
       "</div>"
      ],
      "text/plain": [
       "        Ship Mode    Segment        Country             City       State  \\\n",
       "0    Second Class   Consumer  United States        Henderson    Kentucky   \n",
       "1    Second Class   Consumer  United States        Henderson    Kentucky   \n",
       "2    Second Class  Corporate  United States      Los Angeles  California   \n",
       "3  Standard Class   Consumer  United States  Fort Lauderdale     Florida   \n",
       "4  Standard Class   Consumer  United States  Fort Lauderdale     Florida   \n",
       "\n",
       "   Postal Code Region         Category Sub-Category     Sales  Quantity  \\\n",
       "0        42420  South        Furniture    Bookcases  261.9600         2   \n",
       "1        42420  South        Furniture       Chairs  731.9400         3   \n",
       "2        90036   West  Office Supplies       Labels   14.6200         2   \n",
       "3        33311  South        Furniture       Tables  957.5775         5   \n",
       "4        33311  South  Office Supplies      Storage   22.3680         2   \n",
       "\n",
       "   Discount    Profit  \n",
       "0      0.00   41.9136  \n",
       "1      0.00  219.5820  \n",
       "2      0.00    6.8714  \n",
       "3      0.45 -383.0310  \n",
       "4      0.20    2.5164  "
      ]
     },
     "execution_count": 3,
     "metadata": {},
     "output_type": "execute_result"
    }
   ],
   "source": [
    "df.head()"
   ]
  },
  {
   "cell_type": "code",
   "execution_count": 4,
   "metadata": {},
   "outputs": [
    {
     "data": {
      "text/plain": [
       "(9994, 13)"
      ]
     },
     "execution_count": 4,
     "metadata": {},
     "output_type": "execute_result"
    }
   ],
   "source": [
    "df.shape"
   ]
  },
  {
   "cell_type": "code",
   "execution_count": 5,
   "metadata": {},
   "outputs": [
    {
     "name": "stdout",
     "output_type": "stream",
     "text": [
      "<class 'pandas.core.frame.DataFrame'>\n",
      "RangeIndex: 9994 entries, 0 to 9993\n",
      "Data columns (total 13 columns):\n",
      " #   Column        Non-Null Count  Dtype  \n",
      "---  ------        --------------  -----  \n",
      " 0   Ship Mode     9994 non-null   object \n",
      " 1   Segment       9994 non-null   object \n",
      " 2   Country       9994 non-null   object \n",
      " 3   City          9994 non-null   object \n",
      " 4   State         9994 non-null   object \n",
      " 5   Postal Code   9994 non-null   int64  \n",
      " 6   Region        9994 non-null   object \n",
      " 7   Category      9994 non-null   object \n",
      " 8   Sub-Category  9994 non-null   object \n",
      " 9   Sales         9994 non-null   float64\n",
      " 10  Quantity      9994 non-null   int64  \n",
      " 11  Discount      9994 non-null   float64\n",
      " 12  Profit        9994 non-null   float64\n",
      "dtypes: float64(3), int64(2), object(8)\n",
      "memory usage: 1015.1+ KB\n"
     ]
    }
   ],
   "source": [
    "df.info()"
   ]
  },
  {
   "cell_type": "raw",
   "metadata": {},
   "source": [
    "#Variable Categories:\n",
    "    \n",
    "Categorical variable:\n",
    "1.Ship Mode \n",
    "2.Segment\n",
    "3.Country \n",
    "4.City \n",
    "5.State\n",
    "6.Region \n",
    "7.Category\n",
    "8.Sub-Category\n",
    "\n",
    "Continuous variable:\n",
    "1.Sales\n",
    "2.Profit\n",
    "\n",
    "Discrete Variable:\n",
    "1.Quantity\n",
    "2.Discount\n",
    "\n",
    "\n"
   ]
  },
  {
   "cell_type": "code",
   "execution_count": 6,
   "metadata": {},
   "outputs": [
    {
     "data": {
      "text/plain": [
       "Ship Mode       0\n",
       "Segment         0\n",
       "Country         0\n",
       "City            0\n",
       "State           0\n",
       "Postal Code     0\n",
       "Region          0\n",
       "Category        0\n",
       "Sub-Category    0\n",
       "Sales           0\n",
       "Quantity        0\n",
       "Discount        0\n",
       "Profit          0\n",
       "dtype: int64"
      ]
     },
     "execution_count": 6,
     "metadata": {},
     "output_type": "execute_result"
    }
   ],
   "source": [
    "df.isnull().sum()"
   ]
  },
  {
   "cell_type": "code",
   "execution_count": null,
   "metadata": {},
   "outputs": [],
   "source": [
    "#from the above code it is evident that there is no null values so no need to treat null values"
   ]
  },
  {
   "cell_type": "code",
   "execution_count": 7,
   "metadata": {},
   "outputs": [
    {
     "data": {
      "text/plain": [
       "Ship Mode          4\n",
       "Segment            3\n",
       "Country            1\n",
       "City             531\n",
       "State             49\n",
       "Postal Code      631\n",
       "Region             4\n",
       "Category           3\n",
       "Sub-Category      17\n",
       "Sales           5825\n",
       "Quantity          14\n",
       "Discount          12\n",
       "Profit          7287\n",
       "dtype: int64"
      ]
     },
     "execution_count": 7,
     "metadata": {},
     "output_type": "execute_result"
    }
   ],
   "source": [
    "df.nunique()"
   ]
  },
  {
   "cell_type": "code",
   "execution_count": null,
   "metadata": {},
   "outputs": [],
   "source": [
    "#printing unique values of each column in the data set"
   ]
  },
  {
   "cell_type": "code",
   "execution_count": 8,
   "metadata": {
    "scrolled": false
   },
   "outputs": [
    {
     "name": "stdout",
     "output_type": "stream",
     "text": [
      "======================================================================\n",
      "Ship Mode :\n",
      " ['Second Class' 'Standard Class' 'First Class' 'Same Day']\n",
      "======================================================================\n",
      "Segment :\n",
      " ['Consumer' 'Corporate' 'Home Office']\n",
      "======================================================================\n",
      "Country :\n",
      " ['United States']\n",
      "======================================================================\n",
      "City :\n",
      " ['Henderson' 'Los Angeles' 'Fort Lauderdale' 'Concord' 'Seattle'\n",
      " 'Fort Worth' 'Madison' 'West Jordan' 'San Francisco' 'Fremont'\n",
      " 'Philadelphia' 'Orem' 'Houston' 'Richardson' 'Naperville' 'Melbourne'\n",
      " 'Eagan' 'Westland' 'Dover' 'New Albany' 'New York City' 'Troy' 'Chicago'\n",
      " 'Gilbert' 'Springfield' 'Jackson' 'Memphis' 'Decatur' 'Durham' 'Columbia'\n",
      " 'Rochester' 'Minneapolis' 'Portland' 'Saint Paul' 'Aurora' 'Charlotte'\n",
      " 'Orland Park' 'Urbandale' 'Columbus' 'Bristol' 'Wilmington' 'Bloomington'\n",
      " 'Phoenix' 'Roseville' 'Independence' 'Pasadena' 'Newark' 'Franklin'\n",
      " 'Scottsdale' 'San Jose' 'Edmond' 'Carlsbad' 'San Antonio' 'Monroe'\n",
      " 'Fairfield' 'Grand Prairie' 'Redlands' 'Hamilton' 'Westfield' 'Akron'\n",
      " 'Denver' 'Dallas' 'Whittier' 'Saginaw' 'Medina' 'Dublin' 'Detroit'\n",
      " 'Tampa' 'Santa Clara' 'Lakeville' 'San Diego' 'Brentwood' 'Chapel Hill'\n",
      " 'Morristown' 'Cincinnati' 'Inglewood' 'Tamarac' 'Colorado Springs'\n",
      " 'Belleville' 'Taylor' 'Lakewood' 'Arlington' 'Arvada' 'Hackensack'\n",
      " 'Saint Petersburg' 'Long Beach' 'Hesperia' 'Murfreesboro' 'Layton'\n",
      " 'Austin' 'Lowell' 'Manchester' 'Harlingen' 'Tucson' 'Quincy'\n",
      " 'Pembroke Pines' 'Des Moines' 'Peoria' 'Las Vegas' 'Warwick' 'Miami'\n",
      " 'Huntington Beach' 'Richmond' 'Louisville' 'Lawrence' 'Canton'\n",
      " 'New Rochelle' 'Gastonia' 'Jacksonville' 'Auburn' 'Norman' 'Park Ridge'\n",
      " 'Amarillo' 'Lindenhurst' 'Huntsville' 'Fayetteville' 'Costa Mesa'\n",
      " 'Parker' 'Atlanta' 'Gladstone' 'Great Falls' 'Lakeland' 'Montgomery'\n",
      " 'Mesa' 'Green Bay' 'Anaheim' 'Marysville' 'Salem' 'Laredo' 'Grove City'\n",
      " 'Dearborn' 'Warner Robins' 'Vallejo' 'Mission Viejo' 'Rochester Hills'\n",
      " 'Plainfield' 'Sierra Vista' 'Vancouver' 'Cleveland' 'Tyler' 'Burlington'\n",
      " 'Waynesboro' 'Chester' 'Cary' 'Palm Coast' 'Mount Vernon' 'Hialeah'\n",
      " 'Oceanside' 'Evanston' 'Trenton' 'Cottage Grove' 'Bossier City'\n",
      " 'Lancaster' 'Asheville' 'Lake Elsinore' 'Omaha' 'Edmonds' 'Santa Ana'\n",
      " 'Milwaukee' 'Florence' 'Lorain' 'Linden' 'Salinas' 'New Brunswick'\n",
      " 'Garland' 'Norwich' 'Alexandria' 'Toledo' 'Farmington' 'Riverside'\n",
      " 'Torrance' 'Round Rock' 'Boca Raton' 'Virginia Beach' 'Murrieta'\n",
      " 'Olympia' 'Washington' 'Jefferson City' 'Saint Peters' 'Rockford'\n",
      " 'Brownsville' 'Yonkers' 'Oakland' 'Clinton' 'Encinitas' 'Roswell'\n",
      " 'Jonesboro' 'Antioch' 'Homestead' 'La Porte' 'Lansing' 'Cuyahoga Falls'\n",
      " 'Reno' 'Harrisonburg' 'Escondido' 'Royal Oak' 'Rockville' 'Coral Springs'\n",
      " 'Buffalo' 'Boynton Beach' 'Gulfport' 'Fresno' 'Greenville' 'Macon'\n",
      " 'Cedar Rapids' 'Providence' 'Pueblo' 'Deltona' 'Murray' 'Middletown'\n",
      " 'Freeport' 'Pico Rivera' 'Provo' 'Pleasant Grove' 'Smyrna' 'Parma'\n",
      " 'Mobile' 'New Bedford' 'Irving' 'Vineland' 'Glendale' 'Niagara Falls'\n",
      " 'Thomasville' 'Westminster' 'Coppell' 'Pomona' 'North Las Vegas'\n",
      " 'Allentown' 'Tempe' 'Laguna Niguel' 'Bridgeton' 'Everett' 'Watertown'\n",
      " 'Appleton' 'Bellevue' 'Allen' 'El Paso' 'Grapevine' 'Carrollton' 'Kent'\n",
      " 'Lafayette' 'Tigard' 'Skokie' 'Plano' 'Suffolk' 'Indianapolis' 'Bayonne'\n",
      " 'Greensboro' 'Baltimore' 'Kenosha' 'Olathe' 'Tulsa' 'Redmond' 'Raleigh'\n",
      " 'Muskogee' 'Meriden' 'Bowling Green' 'South Bend' 'Spokane' 'Keller'\n",
      " 'Port Orange' 'Medford' 'Charlottesville' 'Missoula' 'Apopka' 'Reading'\n",
      " 'Broomfield' 'Paterson' 'Oklahoma City' 'Chesapeake' 'Lubbock'\n",
      " 'Johnson City' 'San Bernardino' 'Leominster' 'Bozeman' 'Perth Amboy'\n",
      " 'Ontario' 'Rancho Cucamonga' 'Moorhead' 'Mesquite' 'Stockton'\n",
      " 'Ormond Beach' 'Sunnyvale' 'York' 'College Station' 'Saint Louis'\n",
      " 'Manteca' 'San Angelo' 'Salt Lake City' 'Knoxville' 'Little Rock'\n",
      " 'Lincoln Park' 'Marion' 'Littleton' 'Bangor' 'Southaven' 'New Castle'\n",
      " 'Midland' 'Sioux Falls' 'Fort Collins' 'Clarksville' 'Sacramento'\n",
      " 'Thousand Oaks' 'Malden' 'Holyoke' 'Albuquerque' 'Sparks' 'Coachella'\n",
      " 'Elmhurst' 'Passaic' 'North Charleston' 'Newport News' 'Jamestown'\n",
      " 'Mishawaka' 'La Quinta' 'Tallahassee' 'Nashville' 'Bellingham'\n",
      " 'Woodstock' 'Haltom City' 'Wheeling' 'Summerville' 'Hot Springs'\n",
      " 'Englewood' 'Las Cruces' 'Hoover' 'Frisco' 'Vacaville' 'Waukesha'\n",
      " 'Bakersfield' 'Pompano Beach' 'Corpus Christi' 'Redondo Beach' 'Orlando'\n",
      " 'Orange' 'Lake Charles' 'Highland Park' 'Hempstead' 'Noblesville'\n",
      " 'Apple Valley' 'Mount Pleasant' 'Sterling Heights' 'Eau Claire' 'Pharr'\n",
      " 'Billings' 'Gresham' 'Chattanooga' 'Meridian' 'Bolingbrook' 'Maple Grove'\n",
      " 'Woodland' 'Missouri City' 'Pearland' 'San Mateo' 'Grand Rapids'\n",
      " 'Visalia' 'Overland Park' 'Temecula' 'Yucaipa' 'Revere' 'Conroe'\n",
      " 'Tinley Park' 'Dubuque' 'Dearborn Heights' 'Santa Fe' 'Hickory'\n",
      " 'Carol Stream' 'Saint Cloud' 'North Miami' 'Plantation'\n",
      " 'Port Saint Lucie' 'Rock Hill' 'Odessa' 'West Allis' 'Chula Vista'\n",
      " 'Manhattan' 'Altoona' 'Thornton' 'Champaign' 'Texarkana' 'Edinburg'\n",
      " 'Baytown' 'Greenwood' 'Woonsocket' 'Superior' 'Bedford' 'Covington'\n",
      " 'Broken Arrow' 'Miramar' 'Hollywood' 'Deer Park' 'Wichita' 'Mcallen'\n",
      " 'Iowa City' 'Boise' 'Cranston' 'Port Arthur' 'Citrus Heights'\n",
      " 'The Colony' 'Daytona Beach' 'Bullhead City' 'Portage' 'Fargo' 'Elkhart'\n",
      " 'San Gabriel' 'Margate' 'Sandy Springs' 'Mentor' 'Lawton' 'Hampton'\n",
      " 'Rome' 'La Crosse' 'Lewiston' 'Hattiesburg' 'Danville' 'Logan'\n",
      " 'Waterbury' 'Athens' 'Avondale' 'Marietta' 'Yuma' 'Wausau' 'Pasco'\n",
      " 'Oak Park' 'Pensacola' 'League City' 'Gaithersburg' 'Lehi' 'Tuscaloosa'\n",
      " 'Moreno Valley' 'Georgetown' 'Loveland' 'Chandler' 'Helena' 'Kirkwood'\n",
      " 'Waco' 'Frankfort' 'Bethlehem' 'Grand Island' 'Woodbury' 'Rogers'\n",
      " 'Clovis' 'Jupiter' 'Santa Barbara' 'Cedar Hill' 'Norfolk' 'Draper'\n",
      " 'Ann Arbor' 'La Mesa' 'Pocatello' 'Holland' 'Milford' 'Buffalo Grove'\n",
      " 'Lake Forest' 'Redding' 'Chico' 'Utica' 'Conway' 'Cheyenne' 'Owensboro'\n",
      " 'Caldwell' 'Kenner' 'Nashua' 'Bartlett' 'Redwood City' 'Lebanon'\n",
      " 'Santa Maria' 'Des Plaines' 'Longview' 'Hendersonville' 'Waterloo'\n",
      " 'Cambridge' 'Palatine' 'Beverly' 'Eugene' 'Oxnard' 'Renton' 'Glenview'\n",
      " 'Delray Beach' 'Commerce City' 'Texas City' 'Wilson' 'Rio Rancho'\n",
      " 'Goldsboro' 'Montebello' 'El Cajon' 'Beaumont' 'West Palm Beach'\n",
      " 'Abilene' 'Normal' 'Saint Charles' 'Camarillo' 'Hillsboro' 'Burbank'\n",
      " 'Modesto' 'Garden City' 'Atlantic City' 'Longmont' 'Davis' 'Morgan Hill'\n",
      " 'Clifton' 'Sheboygan' 'East Point' 'Rapid City' 'Andover' 'Kissimmee'\n",
      " 'Shelton' 'Danbury' 'Sanford' 'San Marcos' 'Greeley' 'Mansfield' 'Elyria'\n",
      " 'Twin Falls' 'Coral Gables' 'Romeoville' 'Marlborough' 'Laurel' 'Bryan'\n",
      " 'Pine Bluff' 'Aberdeen' 'Hagerstown' 'East Orange' 'Arlington Heights'\n",
      " 'Oswego' 'Coon Rapids' 'San Clemente' 'San Luis Obispo' 'Springdale'\n",
      " 'Lodi' 'Mason']\n",
      "======================================================================\n",
      "State :\n",
      " ['Kentucky' 'California' 'Florida' 'North Carolina' 'Washington' 'Texas'\n",
      " 'Wisconsin' 'Utah' 'Nebraska' 'Pennsylvania' 'Illinois' 'Minnesota'\n",
      " 'Michigan' 'Delaware' 'Indiana' 'New York' 'Arizona' 'Virginia'\n",
      " 'Tennessee' 'Alabama' 'South Carolina' 'Oregon' 'Colorado' 'Iowa' 'Ohio'\n",
      " 'Missouri' 'Oklahoma' 'New Mexico' 'Louisiana' 'Connecticut' 'New Jersey'\n",
      " 'Massachusetts' 'Georgia' 'Nevada' 'Rhode Island' 'Mississippi'\n",
      " 'Arkansas' 'Montana' 'New Hampshire' 'Maryland' 'District of Columbia'\n",
      " 'Kansas' 'Vermont' 'Maine' 'South Dakota' 'Idaho' 'North Dakota'\n",
      " 'Wyoming' 'West Virginia']\n",
      "======================================================================\n",
      "Postal Code :\n",
      " [42420 90036 33311 90032 28027 98103 76106 53711 84084 94109 68025 19140\n",
      " 84057 90049 77095 75080 77041 60540 32935 55122 48185 19901 47150 10024\n",
      " 12180 90004 60610 85234 22153 10009 49201 38109 77070 35601 94122 27707\n",
      " 60623 29203 55901 55407 97206 55106 80013 28205 60462 10035 50322 43229\n",
      " 37620 19805 61701 85023 95661 64055 91104 43055 53132 85254 95123 98105\n",
      " 98115 73034 90045 19134 88220 78207 77036 62521 71203  6824 75051 92374\n",
      " 45011  7090 19120 44312 80219 75220 37064 90604 48601 44256 43017 48227\n",
      " 38401 33614 95051 55044 92037 77506 94513 27514  7960 45231 94110 90301\n",
      " 33319 80906  7109 48180  8701 22204 80004  7601 33710 19143 90805 92345\n",
      " 37130 84041 78745  1852 31907  6040 78550 85705 62301  2038 33024 98198\n",
      " 61604 89115  2886 33180 28403 92646 40475 80027  1841 39212 48187 10801\n",
      " 28052 32216 47201 13021 73071 94521 60068 79109 11757 90008 92024 77340\n",
      " 14609 72701 92627 80134 30318 64118 59405 48234 33801 36116 85204 60653\n",
      " 54302 45503 92804 98270 97301 78041 75217 43123 10011 48126 31088 94591\n",
      " 92691 48307  7060 85635 98661 60505 76017 40214 75081 44105 75701 27217\n",
      " 22980 19013 27511 32137 10550 48205 33012 11572 92105 60201 48183 55016\n",
      " 71111 50315 93534 23223 28806 92530 68104 98026 92704 53209 41042 44052\n",
      "  7036 93905  8901 17602  3301 21044 75043  6360 22304 43615 87401 92503\n",
      " 90503 78664 92054 33433 23464 92563 28540 52601 98502 20016 65109 63376\n",
      " 61107 33142 78521 10701 94601 28110 20735 30076 72401 47374 94509 33030\n",
      " 46350 48911 44221 89502 22801 92025 48073 20852 33065 14215 33437 39503\n",
      " 93727 27834 11561 35630 31204 52402  2908 81001 94533 32725 42071  6457\n",
      " 11520 90660 84604 84062 30080 24153 44134 36608  2740 75061  8360 85301\n",
      " 14304 27360 92683 38301 75019 91767 89031 18103 19711 85281 92677  8302\n",
      "  2149 13601 54915 98006 75002 79907 76051 75007 37167 98031 70506 97224\n",
      " 60076 75023 23434 46203  7002 28314 27405 21215 53142 66062 98002 74133\n",
      " 97756 27604 74403  6450 42104 46614  6010 89015 99207 76248 45014 32127\n",
      " 97504 22901 59801 33178 29501 97477 32712 19601 80020 65807  7501 73120\n",
      " 23320 79424 65203 37604 36830 92404  1453 59715 85345 44107  8861 91761\n",
      " 91730 56560 75150 95207 32174 94086  3820 17403 77840 63116  2169 95336\n",
      " 44240 76903 84106 35810 37918 72209 48146 43302 80122  5408  4401 38671\n",
      " 47362 48640 57103 80525 47905 37042 95823 91360  2148  1040 87105 89431\n",
      " 92236 60126  7055 29406 23602 14701 46544 43402 92253 32303 37211 98226\n",
      " 60098 76117 60090 29483 71901 80112 43130 88001 35244 75034 95687 84107\n",
      " 53186 93309 33068 45373 78415 90278 32839  7050 70601 60035 11550 46060\n",
      " 55124 29464 48310 54703 78577 59102 97030 37421 83642 92307 60440 55369\n",
      " 95695 77489 77581 94403 49505 93277 66212 92592 92399  2151 77301 60477\n",
      " 52001 48127 87505 28601 60188 56301 33161 46226 33317 34952 29730 79762\n",
      " 53214 91911 66502 16602 80229 61821 47401 71854 78539 77520 46142 90712\n",
      "  2895 54880 76021 98042 74012 33023 33021 77536 67212 78501 52240 83704\n",
      "  2920 61032 77642 95610 75056 98052 32114 86442 46368 58103 46514 91776\n",
      " 33063 30328 44060 73505 23666 13440 54601 83501 39401 94526 48858 84321\n",
      "  6708 30605  4240 61832 85323 30062 85364 54401 99301 60302 32503 77573\n",
      " 20877 84043 35401 92553 40324 80538 85224 59601 63122 76706 48066 60423\n",
      " 18018 55113 68801 55125 48237 72756 88101 33458 93101 75104 68701 84020\n",
      " 48104 91941 83201 49423  6460 60089 92630 96003 95928 13501 72032 82001\n",
      " 42301 83605 70065  3060 38134 94061 37087 93454 60016 98632 37075 50701\n",
      "  2138 60067  1915 97405 93030 98059 60025 33445 80022 77590 27893 87124\n",
      " 27534 98208 90640 92020 77705 33407 79605 61761 63301 60174 93010 97123\n",
      " 91505 95351 67846  8401 80501 95616 26003 95037  7011 53081 30344 57701\n",
      "  1810 34741  6484  6810 52302 32771 78666 80634 76063 44035 83301 33134\n",
      " 60441  1752 20707 77803 71603 57401 21740  7017 60004 60543 55433 92672\n",
      " 94568 93405 72762 95240 77571 45040 30188]\n",
      "======================================================================\n",
      "Region :\n",
      " ['South' 'West' 'Central' 'East']\n",
      "======================================================================\n",
      "Category :\n"
     ]
    },
    {
     "name": "stdout",
     "output_type": "stream",
     "text": [
      " ['Furniture' 'Office Supplies' 'Technology']\n",
      "======================================================================\n",
      "Sub-Category :\n",
      " ['Bookcases' 'Chairs' 'Labels' 'Tables' 'Storage' 'Furnishings' 'Art'\n",
      " 'Phones' 'Binders' 'Appliances' 'Paper' 'Accessories' 'Envelopes'\n",
      " 'Fasteners' 'Supplies' 'Machines' 'Copiers']\n",
      "======================================================================\n",
      "Sales :\n",
      " [261.96  731.94   14.62  ... 437.472  97.98  243.16 ]\n",
      "======================================================================\n",
      "Quantity :\n",
      " [ 2  3  5  7  4  6  9  1  8 14 11 13 10 12]\n",
      "======================================================================\n",
      "Discount :\n",
      " [0.   0.45 0.2  0.8  0.3  0.5  0.7  0.6  0.32 0.1  0.4  0.15]\n",
      "======================================================================\n",
      "Profit :\n",
      " [ 41.9136 219.582    6.8714 ...  16.124    4.1028  72.948 ]\n"
     ]
    }
   ],
   "source": [
    "for column in df.columns[:]:\n",
    "    print(\"=\"*70)\n",
    "    print(column,\":\\n\",df[column].unique(),)"
   ]
  },
  {
   "cell_type": "code",
   "execution_count": null,
   "metadata": {},
   "outputs": [],
   "source": [
    "#we can see that there is only one Country \"United States\" so country column can be removed\n",
    "#also we can see Postal Code column is irrelevant as the same city,state,region de"
   ]
  },
  {
   "cell_type": "code",
   "execution_count": 9,
   "metadata": {},
   "outputs": [],
   "source": [
    "df.drop(['Country','Postal Code'],axis=1,inplace=True)"
   ]
  },
  {
   "cell_type": "code",
   "execution_count": 10,
   "metadata": {},
   "outputs": [
    {
     "name": "stdout",
     "output_type": "stream",
     "text": [
      "<class 'pandas.core.frame.DataFrame'>\n",
      "RangeIndex: 9994 entries, 0 to 9993\n",
      "Data columns (total 11 columns):\n",
      " #   Column        Non-Null Count  Dtype  \n",
      "---  ------        --------------  -----  \n",
      " 0   Ship Mode     9994 non-null   object \n",
      " 1   Segment       9994 non-null   object \n",
      " 2   City          9994 non-null   object \n",
      " 3   State         9994 non-null   object \n",
      " 4   Region        9994 non-null   object \n",
      " 5   Category      9994 non-null   object \n",
      " 6   Sub-Category  9994 non-null   object \n",
      " 7   Sales         9994 non-null   float64\n",
      " 8   Quantity      9994 non-null   int64  \n",
      " 9   Discount      9994 non-null   float64\n",
      " 10  Profit        9994 non-null   float64\n",
      "dtypes: float64(3), int64(1), object(7)\n",
      "memory usage: 859.0+ KB\n"
     ]
    }
   ],
   "source": [
    "df.info()"
   ]
  },
  {
   "cell_type": "code",
   "execution_count": 11,
   "metadata": {},
   "outputs": [
    {
     "data": {
      "text/plain": [
       "(9994, 11)"
      ]
     },
     "execution_count": 11,
     "metadata": {},
     "output_type": "execute_result"
    }
   ],
   "source": [
    "df.shape"
   ]
  },
  {
   "cell_type": "code",
   "execution_count": 12,
   "metadata": {},
   "outputs": [
    {
     "data": {
      "text/plain": [
       "50"
      ]
     },
     "execution_count": 12,
     "metadata": {},
     "output_type": "execute_result"
    }
   ],
   "source": [
    "df.duplicated().sum()"
   ]
  },
  {
   "cell_type": "code",
   "execution_count": null,
   "metadata": {},
   "outputs": [],
   "source": [
    "#there are 50 duplicated records so we can drop these records"
   ]
  },
  {
   "cell_type": "code",
   "execution_count": 13,
   "metadata": {},
   "outputs": [
    {
     "data": {
      "text/html": [
       "<div>\n",
       "<style scoped>\n",
       "    .dataframe tbody tr th:only-of-type {\n",
       "        vertical-align: middle;\n",
       "    }\n",
       "\n",
       "    .dataframe tbody tr th {\n",
       "        vertical-align: top;\n",
       "    }\n",
       "\n",
       "    .dataframe thead th {\n",
       "        text-align: right;\n",
       "    }\n",
       "</style>\n",
       "<table border=\"1\" class=\"dataframe\">\n",
       "  <thead>\n",
       "    <tr style=\"text-align: right;\">\n",
       "      <th></th>\n",
       "      <th>Ship Mode</th>\n",
       "      <th>Segment</th>\n",
       "      <th>City</th>\n",
       "      <th>State</th>\n",
       "      <th>Region</th>\n",
       "      <th>Category</th>\n",
       "      <th>Sub-Category</th>\n",
       "      <th>Sales</th>\n",
       "      <th>Quantity</th>\n",
       "      <th>Discount</th>\n",
       "      <th>Profit</th>\n",
       "    </tr>\n",
       "  </thead>\n",
       "  <tbody>\n",
       "    <tr>\n",
       "      <th>0</th>\n",
       "      <td>Second Class</td>\n",
       "      <td>Consumer</td>\n",
       "      <td>Henderson</td>\n",
       "      <td>Kentucky</td>\n",
       "      <td>South</td>\n",
       "      <td>Furniture</td>\n",
       "      <td>Bookcases</td>\n",
       "      <td>261.9600</td>\n",
       "      <td>2</td>\n",
       "      <td>0.00</td>\n",
       "      <td>41.9136</td>\n",
       "    </tr>\n",
       "    <tr>\n",
       "      <th>1</th>\n",
       "      <td>Second Class</td>\n",
       "      <td>Consumer</td>\n",
       "      <td>Henderson</td>\n",
       "      <td>Kentucky</td>\n",
       "      <td>South</td>\n",
       "      <td>Furniture</td>\n",
       "      <td>Chairs</td>\n",
       "      <td>731.9400</td>\n",
       "      <td>3</td>\n",
       "      <td>0.00</td>\n",
       "      <td>219.5820</td>\n",
       "    </tr>\n",
       "    <tr>\n",
       "      <th>2</th>\n",
       "      <td>Second Class</td>\n",
       "      <td>Corporate</td>\n",
       "      <td>Los Angeles</td>\n",
       "      <td>California</td>\n",
       "      <td>West</td>\n",
       "      <td>Office Supplies</td>\n",
       "      <td>Labels</td>\n",
       "      <td>14.6200</td>\n",
       "      <td>2</td>\n",
       "      <td>0.00</td>\n",
       "      <td>6.8714</td>\n",
       "    </tr>\n",
       "    <tr>\n",
       "      <th>3</th>\n",
       "      <td>Standard Class</td>\n",
       "      <td>Consumer</td>\n",
       "      <td>Fort Lauderdale</td>\n",
       "      <td>Florida</td>\n",
       "      <td>South</td>\n",
       "      <td>Furniture</td>\n",
       "      <td>Tables</td>\n",
       "      <td>957.5775</td>\n",
       "      <td>5</td>\n",
       "      <td>0.45</td>\n",
       "      <td>-383.0310</td>\n",
       "    </tr>\n",
       "    <tr>\n",
       "      <th>4</th>\n",
       "      <td>Standard Class</td>\n",
       "      <td>Consumer</td>\n",
       "      <td>Fort Lauderdale</td>\n",
       "      <td>Florida</td>\n",
       "      <td>South</td>\n",
       "      <td>Office Supplies</td>\n",
       "      <td>Storage</td>\n",
       "      <td>22.3680</td>\n",
       "      <td>2</td>\n",
       "      <td>0.20</td>\n",
       "      <td>2.5164</td>\n",
       "    </tr>\n",
       "    <tr>\n",
       "      <th>...</th>\n",
       "      <td>...</td>\n",
       "      <td>...</td>\n",
       "      <td>...</td>\n",
       "      <td>...</td>\n",
       "      <td>...</td>\n",
       "      <td>...</td>\n",
       "      <td>...</td>\n",
       "      <td>...</td>\n",
       "      <td>...</td>\n",
       "      <td>...</td>\n",
       "      <td>...</td>\n",
       "    </tr>\n",
       "    <tr>\n",
       "      <th>9989</th>\n",
       "      <td>Second Class</td>\n",
       "      <td>Consumer</td>\n",
       "      <td>Miami</td>\n",
       "      <td>Florida</td>\n",
       "      <td>South</td>\n",
       "      <td>Furniture</td>\n",
       "      <td>Furnishings</td>\n",
       "      <td>25.2480</td>\n",
       "      <td>3</td>\n",
       "      <td>0.20</td>\n",
       "      <td>4.1028</td>\n",
       "    </tr>\n",
       "    <tr>\n",
       "      <th>9990</th>\n",
       "      <td>Standard Class</td>\n",
       "      <td>Consumer</td>\n",
       "      <td>Costa Mesa</td>\n",
       "      <td>California</td>\n",
       "      <td>West</td>\n",
       "      <td>Furniture</td>\n",
       "      <td>Furnishings</td>\n",
       "      <td>91.9600</td>\n",
       "      <td>2</td>\n",
       "      <td>0.00</td>\n",
       "      <td>15.6332</td>\n",
       "    </tr>\n",
       "    <tr>\n",
       "      <th>9991</th>\n",
       "      <td>Standard Class</td>\n",
       "      <td>Consumer</td>\n",
       "      <td>Costa Mesa</td>\n",
       "      <td>California</td>\n",
       "      <td>West</td>\n",
       "      <td>Technology</td>\n",
       "      <td>Phones</td>\n",
       "      <td>258.5760</td>\n",
       "      <td>2</td>\n",
       "      <td>0.20</td>\n",
       "      <td>19.3932</td>\n",
       "    </tr>\n",
       "    <tr>\n",
       "      <th>9992</th>\n",
       "      <td>Standard Class</td>\n",
       "      <td>Consumer</td>\n",
       "      <td>Costa Mesa</td>\n",
       "      <td>California</td>\n",
       "      <td>West</td>\n",
       "      <td>Office Supplies</td>\n",
       "      <td>Paper</td>\n",
       "      <td>29.6000</td>\n",
       "      <td>4</td>\n",
       "      <td>0.00</td>\n",
       "      <td>13.3200</td>\n",
       "    </tr>\n",
       "    <tr>\n",
       "      <th>9993</th>\n",
       "      <td>Second Class</td>\n",
       "      <td>Consumer</td>\n",
       "      <td>Westminster</td>\n",
       "      <td>California</td>\n",
       "      <td>West</td>\n",
       "      <td>Office Supplies</td>\n",
       "      <td>Appliances</td>\n",
       "      <td>243.1600</td>\n",
       "      <td>2</td>\n",
       "      <td>0.00</td>\n",
       "      <td>72.9480</td>\n",
       "    </tr>\n",
       "  </tbody>\n",
       "</table>\n",
       "<p>9944 rows × 11 columns</p>\n",
       "</div>"
      ],
      "text/plain": [
       "           Ship Mode    Segment             City       State Region  \\\n",
       "0       Second Class   Consumer        Henderson    Kentucky  South   \n",
       "1       Second Class   Consumer        Henderson    Kentucky  South   \n",
       "2       Second Class  Corporate      Los Angeles  California   West   \n",
       "3     Standard Class   Consumer  Fort Lauderdale     Florida  South   \n",
       "4     Standard Class   Consumer  Fort Lauderdale     Florida  South   \n",
       "...              ...        ...              ...         ...    ...   \n",
       "9989    Second Class   Consumer            Miami     Florida  South   \n",
       "9990  Standard Class   Consumer       Costa Mesa  California   West   \n",
       "9991  Standard Class   Consumer       Costa Mesa  California   West   \n",
       "9992  Standard Class   Consumer       Costa Mesa  California   West   \n",
       "9993    Second Class   Consumer      Westminster  California   West   \n",
       "\n",
       "             Category Sub-Category     Sales  Quantity  Discount    Profit  \n",
       "0           Furniture    Bookcases  261.9600         2      0.00   41.9136  \n",
       "1           Furniture       Chairs  731.9400         3      0.00  219.5820  \n",
       "2     Office Supplies       Labels   14.6200         2      0.00    6.8714  \n",
       "3           Furniture       Tables  957.5775         5      0.45 -383.0310  \n",
       "4     Office Supplies      Storage   22.3680         2      0.20    2.5164  \n",
       "...               ...          ...       ...       ...       ...       ...  \n",
       "9989        Furniture  Furnishings   25.2480         3      0.20    4.1028  \n",
       "9990        Furniture  Furnishings   91.9600         2      0.00   15.6332  \n",
       "9991       Technology       Phones  258.5760         2      0.20   19.3932  \n",
       "9992  Office Supplies        Paper   29.6000         4      0.00   13.3200  \n",
       "9993  Office Supplies   Appliances  243.1600         2      0.00   72.9480  \n",
       "\n",
       "[9944 rows x 11 columns]"
      ]
     },
     "execution_count": 13,
     "metadata": {},
     "output_type": "execute_result"
    }
   ],
   "source": [
    "df.drop_duplicates()"
   ]
  },
  {
   "cell_type": "markdown",
   "metadata": {},
   "source": [
    "# Univariate Analysis"
   ]
  },
  {
   "cell_type": "code",
   "execution_count": 14,
   "metadata": {},
   "outputs": [
    {
     "data": {
      "image/png": "[encoded data removed]",
      "text/plain": [
       "<Figure size 432x288 with 1 Axes>"
      ]
     },
     "metadata": {
      "needs_background": "light"
     },
     "output_type": "display_data"
    }
   ],
   "source": [
    "sns.countplot('Ship Mode',data=df)\n",
    "plt.show()"
   ]
  },
  {
   "cell_type": "code",
   "execution_count": null,
   "metadata": {},
   "outputs": [],
   "source": [
    "#insights:Maximum people opt for Standard class as shipping mode"
   ]
  },
  {
   "cell_type": "code",
   "execution_count": 15,
   "metadata": {},
   "outputs": [
    {
     "data": {
      "image/png": "[encoded data removed]",
      "text/plain": [
       "<Figure size 432x288 with 1 Axes>"
      ]
     },
     "metadata": {
      "needs_background": "light"
     },
     "output_type": "display_data"
    }
   ],
   "source": [
    "sns.countplot('Segment',data=df)\n",
    "plt.show()"
   ]
  },
  {
   "cell_type": "code",
   "execution_count": null,
   "metadata": {},
   "outputs": [],
   "source": [
    "#insights:maximum count in Consumer segment"
   ]
  },
  {
   "cell_type": "code",
   "execution_count": 16,
   "metadata": {},
   "outputs": [
    {
     "data": {
      "image/png": "[encoded data removed]",
      "text/plain": [
       "<Figure size 432x288 with 1 Axes>"
      ]
     },
     "metadata": {
      "needs_background": "light"
     },
     "output_type": "display_data"
    }
   ],
   "source": [
    "sns.countplot('Region',data=df)\n",
    "plt.show()"
   ]
  },
  {
   "cell_type": "code",
   "execution_count": null,
   "metadata": {},
   "outputs": [],
   "source": [
    "#insights: maximum count from West region followed by East and then Central"
   ]
  },
  {
   "cell_type": "code",
   "execution_count": 18,
   "metadata": {},
   "outputs": [
    {
     "data": {
      "image/png": "[encoded data removed]",
      "text/plain": [
       "<Figure size 432x288 with 1 Axes>"
      ]
     },
     "metadata": {
      "needs_background": "light"
     },
     "output_type": "display_data"
    }
   ],
   "source": [
    "sns.countplot('Category',data=df)\n",
    "plt.show()"
   ]
  },
  {
   "cell_type": "code",
   "execution_count": null,
   "metadata": {},
   "outputs": [],
   "source": [
    "#insight:maximum count in Office Supplies category"
   ]
  },
  {
   "cell_type": "code",
   "execution_count": 19,
   "metadata": {},
   "outputs": [
    {
     "data": {
      "image/png": "[encoded data removed]",
      "text/plain": [
       "<Figure size 1296x360 with 1 Axes>"
      ]
     },
     "metadata": {
      "needs_background": "light"
     },
     "output_type": "display_data"
    }
   ],
   "source": [
    "plt.figure(figsize=[18,5])\n",
    "sns.countplot(\"State\",data=df)\n",
    "plt.xticks(rotation=90)\n",
    "plt.show()"
   ]
  },
  {
   "cell_type": "code",
   "execution_count": 20,
   "metadata": {},
   "outputs": [
    {
     "data": {
      "text/plain": [
       "California              2001\n",
       "New York                1128\n",
       "Texas                    985\n",
       "Pennsylvania             587\n",
       "Washington               506\n",
       "Illinois                 492\n",
       "Ohio                     469\n",
       "Florida                  383\n",
       "Michigan                 255\n",
       "North Carolina           249\n",
       "Arizona                  224\n",
       "Virginia                 224\n",
       "Georgia                  184\n",
       "Tennessee                183\n",
       "Colorado                 182\n",
       "Indiana                  149\n",
       "Kentucky                 139\n",
       "Massachusetts            135\n",
       "New Jersey               130\n",
       "Oregon                   124\n",
       "Wisconsin                110\n",
       "Maryland                 105\n",
       "Delaware                  96\n",
       "Minnesota                 89\n",
       "Connecticut               82\n",
       "Oklahoma                  66\n",
       "Missouri                  66\n",
       "Alabama                   61\n",
       "Arkansas                  60\n",
       "Rhode Island              56\n",
       "Mississippi               53\n",
       "Utah                      53\n",
       "South Carolina            42\n",
       "Louisiana                 42\n",
       "Nevada                    39\n",
       "Nebraska                  38\n",
       "New Mexico                37\n",
       "Iowa                      30\n",
       "New Hampshire             27\n",
       "Kansas                    24\n",
       "Idaho                     21\n",
       "Montana                   15\n",
       "South Dakota              12\n",
       "Vermont                   11\n",
       "District of Columbia      10\n",
       "Maine                      8\n",
       "North Dakota               7\n",
       "West Virginia              4\n",
       "Wyoming                    1\n",
       "Name: State, dtype: int64"
      ]
     },
     "execution_count": 20,
     "metadata": {},
     "output_type": "execute_result"
    }
   ],
   "source": [
    "data_state=df['State'].value_counts()\n",
    "data_state"
   ]
  },
  {
   "cell_type": "code",
   "execution_count": null,
   "metadata": {},
   "outputs": [],
   "source": []
  },
  {
   "cell_type": "code",
   "execution_count": null,
   "metadata": {},
   "outputs": [],
   "source": [
    "#insights:California having highest count  among states"
   ]
  },
  {
   "cell_type": "code",
   "execution_count": 21,
   "metadata": {},
   "outputs": [
    {
     "data": {
      "text/plain": [
       "<matplotlib.axes._subplots.AxesSubplot at 0x55596b8d08>"
      ]
     },
     "execution_count": 21,
     "metadata": {},
     "output_type": "execute_result"
    },
    {
     "data": {
      "image/png": "[encoded data removed]",
      "text/plain": [
       "<Figure size 1440x720 with 1 Axes>"
      ]
     },
     "metadata": {
      "needs_background": "light"
     },
     "output_type": "display_data"
    }
   ],
   "source": [
    "plt.figure(figsize=[20,10])\n",
    "sns.countplot(\"Sub-Category\",data=df)"
   ]
  },
  {
   "cell_type": "code",
   "execution_count": null,
   "metadata": {},
   "outputs": [],
   "source": [
    "#Finding skeweness of continous variable"
   ]
  },
  {
   "cell_type": "code",
   "execution_count": null,
   "metadata": {},
   "outputs": [],
   "source": [
    "#insights:maximum sales from Binders follower by paper"
   ]
  },
  {
   "cell_type": "code",
   "execution_count": 22,
   "metadata": {},
   "outputs": [
    {
     "data": {
      "text/plain": [
       "<matplotlib.axes._subplots.AxesSubplot at 0x555e12de48>"
      ]
     },
     "execution_count": 22,
     "metadata": {},
     "output_type": "execute_result"
    },
    {
     "data": {
      "image/png": "[encoded data removed]",
      "text/plain": [
       "<Figure size 432x288 with 1 Axes>"
      ]
     },
     "metadata": {
      "needs_background": "light"
     },
     "output_type": "display_data"
    }
   ],
   "source": [
    "df.boxplot(column=['Profit'])"
   ]
  },
  {
   "cell_type": "code",
   "execution_count": null,
   "metadata": {},
   "outputs": [],
   "source": []
  },
  {
   "cell_type": "code",
   "execution_count": null,
   "metadata": {},
   "outputs": [],
   "source": [
    "#insight:the profit column is very skewed with lot of outliers"
   ]
  },
  {
   "cell_type": "code",
   "execution_count": null,
   "metadata": {},
   "outputs": [],
   "source": [
    "df['Profit'].describe()"
   ]
  },
  {
   "cell_type": "code",
   "execution_count": 24,
   "metadata": {},
   "outputs": [
    {
     "name": "stdout",
     "output_type": "stream",
     "text": [
      "7.561431562468343\n"
     ]
    }
   ],
   "source": [
    "print(df['Profit'].skew())"
   ]
  },
  {
   "cell_type": "code",
   "execution_count": 25,
   "metadata": {},
   "outputs": [
    {
     "data": {
      "image/png": "[encoded data removed]",
      "text/plain": [
       "<Figure size 432x288 with 1 Axes>"
      ]
     },
     "metadata": {
      "needs_background": "light"
     },
     "output_type": "display_data"
    }
   ],
   "source": [
    "sns.distplot(df['Profit'],hist=True)\n",
    "plt.show()"
   ]
  },
  {
   "cell_type": "code",
   "execution_count": null,
   "metadata": {},
   "outputs": [],
   "source": [
    "#insight:usually skewness lies between -1 to +1. Our value is +7.56.. which says our data is heavily skewed in right \n",
    "#direction"
   ]
  },
  {
   "cell_type": "code",
   "execution_count": 26,
   "metadata": {},
   "outputs": [
    {
     "data": {
      "image/png": "[encoded data removed]",
      "text/plain": [
       "<Figure size 432x288 with 2 Axes>"
      ]
     },
     "metadata": {
      "needs_background": "light"
     },
     "output_type": "display_data"
    }
   ],
   "source": [
    "sns.heatmap(df.corr(),annot=True)\n",
    "plt.show()"
   ]
  },
  {
   "cell_type": "code",
   "execution_count": null,
   "metadata": {},
   "outputs": [],
   "source": [
    "#Handling right skewed data"
   ]
  },
  {
   "cell_type": "code",
   "execution_count": null,
   "metadata": {},
   "outputs": [],
   "source": [
    "#so trying to keep values between 10 th and 90th percentile in profit column"
   ]
  },
  {
   "cell_type": "code",
   "execution_count": 27,
   "metadata": {},
   "outputs": [
    {
     "name": "stdout",
     "output_type": "stream",
     "text": [
      "-15.47346\n",
      "89.28162000000006\n"
     ]
    }
   ],
   "source": [
    "print(df['Profit'].quantile(.10))\n",
    "print(df['Profit'].quantile(.90))"
   ]
  },
  {
   "cell_type": "code",
   "execution_count": 28,
   "metadata": {},
   "outputs": [
    {
     "name": "stdout",
     "output_type": "stream",
     "text": [
      "1.150340143450281\n"
     ]
    }
   ],
   "source": [
    "df['Profit']=np.where(df['Profit']<--15.47346,-15.47346,df[\"Profit\"])\n",
    "df[\"Profit\"]=np.where(df['Profit']>89.28162000000006,89.28162000000006,df[\"Profit\"])\n",
    "print(df[\"Profit\"].skew())"
   ]
  },
  {
   "cell_type": "code",
   "execution_count": null,
   "metadata": {},
   "outputs": [],
   "source": [
    "#now skewness reduced for Profit column"
   ]
  },
  {
   "cell_type": "code",
   "execution_count": 29,
   "metadata": {},
   "outputs": [
    {
     "data": {
      "text/plain": [
       "<matplotlib.axes._subplots.AxesSubplot at 0x55581d1d48>"
      ]
     },
     "execution_count": 29,
     "metadata": {},
     "output_type": "execute_result"
    },
    {
     "data": {
      "image/png": "[encoded data removed]",
      "text/plain": [
       "<Figure size 432x288 with 1 Axes>"
      ]
     },
     "metadata": {
      "needs_background": "light"
     },
     "output_type": "display_data"
    }
   ],
   "source": [
    "df.boxplot(column=['Sales'])"
   ]
  },
  {
   "cell_type": "code",
   "execution_count": 30,
   "metadata": {},
   "outputs": [
    {
     "data": {
      "text/plain": [
       "count     9994.000000\n",
       "mean       229.858001\n",
       "std        623.245101\n",
       "min          0.444000\n",
       "25%         17.280000\n",
       "50%         54.490000\n",
       "75%        209.940000\n",
       "max      22638.480000\n",
       "Name: Sales, dtype: float64"
      ]
     },
     "execution_count": 30,
     "metadata": {},
     "output_type": "execute_result"
    }
   ],
   "source": [
    "df['Sales'].describe()"
   ]
  },
  {
   "cell_type": "code",
   "execution_count": 31,
   "metadata": {},
   "outputs": [
    {
     "data": {
      "image/png": "[encoded data removed]",
      "text/plain": [
       "<Figure size 432x288 with 1 Axes>"
      ]
     },
     "metadata": {
      "needs_background": "light"
     },
     "output_type": "display_data"
    }
   ],
   "source": [
    "sns.distplot(df['Profit'],hist=True)\n",
    "plt.show()"
   ]
  },
  {
   "cell_type": "code",
   "execution_count": 32,
   "metadata": {},
   "outputs": [
    {
     "name": "stdout",
     "output_type": "stream",
     "text": [
      "12.97275234181623\n"
     ]
    }
   ],
   "source": [
    "print(df['Sales'].skew())"
   ]
  },
  {
   "cell_type": "code",
   "execution_count": null,
   "metadata": {},
   "outputs": [],
   "source": []
  },
  {
   "cell_type": "code",
   "execution_count": 33,
   "metadata": {},
   "outputs": [
    {
     "data": {
      "image/png": "[encoded data removed]",
      "text/plain": [
       "<Figure size 432x288 with 2 Axes>"
      ]
     },
     "metadata": {
      "needs_background": "light"
     },
     "output_type": "display_data"
    }
   ],
   "source": [
    "sns.heatmap(df.corr(),annot=True)\n",
    "plt.show()"
   ]
  },
  {
   "cell_type": "code",
   "execution_count": 34,
   "metadata": {},
   "outputs": [
    {
     "name": "stdout",
     "output_type": "stream",
     "text": [
      "7.8972\n",
      "572.7060000000001\n"
     ]
    }
   ],
   "source": [
    "print(df['Sales'].quantile(.10))\n",
    "print(df['Sales'].quantile(.90))"
   ]
  },
  {
   "cell_type": "code",
   "execution_count": 35,
   "metadata": {},
   "outputs": [
    {
     "name": "stdout",
     "output_type": "stream",
     "text": [
      "1.3559764251972817\n"
     ]
    }
   ],
   "source": [
    "#removing the extremevalues\n",
    "df['Sales']=np.where(df['Sales']<-7.8972,7.8972,df[\"Sales\"])\n",
    "df[\"Sales\"]=np.where(df['Sales']>572.7060000000001,572.7060000000001,df[\"Sales\"])\n",
    "print(df[\"Sales\"].skew())"
   ]
  },
  {
   "cell_type": "code",
   "execution_count": 36,
   "metadata": {},
   "outputs": [
    {
     "data": {
      "image/png": "[encoded data removed]",
      "text/plain": [
       "<Figure size 432x288 with 2 Axes>"
      ]
     },
     "metadata": {
      "needs_background": "light"
     },
     "output_type": "display_data"
    }
   ],
   "source": [
    "sns.heatmap(df.corr(),annot=True)\n",
    "plt.show()"
   ]
  },
  {
   "cell_type": "markdown",
   "metadata": {},
   "source": [
    "#insights:\n",
    "1.correlation between Sales and Quantity with respect to Profit improved after removing the extreme values of the column.\n",
    "2.Positive correlation between Sales and profit\n",
    "3.Positive Correlation between Quantity and Profit\n",
    "4.Negative correlation between Dicount and Profit"
   ]
  },
  {
   "cell_type": "markdown",
   "metadata": {},
   "source": [
    "# Analysis each attributes with respect to Sales,Profit,Discount"
   ]
  },
  {
   "cell_type": "code",
   "execution_count": null,
   "metadata": {},
   "outputs": [],
   "source": [
    "#Analysis associated with Shipment Mode "
   ]
  },
  {
   "cell_type": "code",
   "execution_count": 37,
   "metadata": {},
   "outputs": [
    {
     "data": {
      "text/plain": [
       "First Class       1538\n",
       "Same Day           543\n",
       "Second Class      1945\n",
       "Standard Class    5968\n",
       "Name: Ship Mode, dtype: int64"
      ]
     },
     "execution_count": 37,
     "metadata": {},
     "output_type": "execute_result"
    }
   ],
   "source": [
    "ship_count=df['Ship Mode'].value_counts().sort_index()\n",
    "ship_count"
   ]
  },
  {
   "cell_type": "code",
   "execution_count": 40,
   "metadata": {},
   "outputs": [
    {
     "data": {
      "text/html": [
       "<div>\n",
       "<style scoped>\n",
       "    .dataframe tbody tr th:only-of-type {\n",
       "        vertical-align: middle;\n",
       "    }\n",
       "\n",
       "    .dataframe tbody tr th {\n",
       "        vertical-align: top;\n",
       "    }\n",
       "\n",
       "    .dataframe thead th {\n",
       "        text-align: right;\n",
       "    }\n",
       "</style>\n",
       "<table border=\"1\" class=\"dataframe\">\n",
       "  <thead>\n",
       "    <tr style=\"text-align: right;\">\n",
       "      <th></th>\n",
       "      <th>Sales</th>\n",
       "      <th>Discount</th>\n",
       "      <th>Profit</th>\n",
       "    </tr>\n",
       "    <tr>\n",
       "      <th>Ship Mode</th>\n",
       "      <th></th>\n",
       "      <th></th>\n",
       "      <th></th>\n",
       "    </tr>\n",
       "  </thead>\n",
       "  <tbody>\n",
       "    <tr>\n",
       "      <th>First Class</th>\n",
       "      <td>146.770951</td>\n",
       "      <td>0.164610</td>\n",
       "      <td>9.384626</td>\n",
       "    </tr>\n",
       "    <tr>\n",
       "      <th>Same Day</th>\n",
       "      <td>150.420856</td>\n",
       "      <td>0.152394</td>\n",
       "      <td>10.571825</td>\n",
       "    </tr>\n",
       "    <tr>\n",
       "      <th>Second Class</th>\n",
       "      <td>152.019039</td>\n",
       "      <td>0.138895</td>\n",
       "      <td>11.201788</td>\n",
       "    </tr>\n",
       "    <tr>\n",
       "      <th>Standard Class</th>\n",
       "      <td>147.264768</td>\n",
       "      <td>0.160023</td>\n",
       "      <td>9.335246</td>\n",
       "    </tr>\n",
       "  </tbody>\n",
       "</table>\n",
       "</div>"
      ],
      "text/plain": [
       "                     Sales  Discount     Profit\n",
       "Ship Mode                                      \n",
       "First Class     146.770951  0.164610   9.384626\n",
       "Same Day        150.420856  0.152394  10.571825\n",
       "Second Class    152.019039  0.138895  11.201788\n",
       "Standard Class  147.264768  0.160023   9.335246"
      ]
     },
     "execution_count": 40,
     "metadata": {},
     "output_type": "execute_result"
    }
   ],
   "source": [
    "data_ship=df.groupby(['Ship Mode'])[['Sales','Discount','Profit']].mean()\n",
    "data_ship"
   ]
  },
  {
   "cell_type": "markdown",
   "metadata": {},
   "source": [
    "#insights:\n",
    "1.Profit and Sales is  more in second class  with least discount.\n",
    "2.Profit and Sales is least in First class with highest discount\n"
   ]
  },
  {
   "cell_type": "code",
   "execution_count": 42,
   "metadata": {},
   "outputs": [
    {
     "data": {
      "image/png": "[encoded data removed]",
      "text/plain": [
       "<Figure size 1080x1440 with 3 Axes>"
      ]
     },
     "metadata": {},
     "output_type": "display_data"
    }
   ],
   "source": [
    "data_ship.plot.pie(subplots=True,figsize=(15,20),autopct=\"%1.1f%%\",startangle=90)\n",
    "plt.show()"
   ]
  },
  {
   "cell_type": "code",
   "execution_count": null,
   "metadata": {},
   "outputs": [],
   "source": [
    "#Analysis associated with Segment"
   ]
  },
  {
   "cell_type": "code",
   "execution_count": 43,
   "metadata": {},
   "outputs": [
    {
     "data": {
      "text/plain": [
       "Consumer       5191\n",
       "Corporate      3020\n",
       "Home Office    1783\n",
       "Name: Segment, dtype: int64"
      ]
     },
     "execution_count": 43,
     "metadata": {},
     "output_type": "execute_result"
    }
   ],
   "source": [
    "seg=df['Segment'].value_counts().sort_index()\n",
    "seg"
   ]
  },
  {
   "cell_type": "code",
   "execution_count": 44,
   "metadata": {},
   "outputs": [
    {
     "data": {
      "image/png": "[encoded data removed]",
      "text/plain": [
       "<Figure size 432x288 with 1 Axes>"
      ]
     },
     "metadata": {},
     "output_type": "display_data"
    }
   ],
   "source": [
    "seg.plot.pie(subplots=True,autopct=\"%1.1f\",startangle=90)\n",
    "plt.show()"
   ]
  },
  {
   "cell_type": "code",
   "execution_count": 45,
   "metadata": {},
   "outputs": [
    {
     "data": {
      "text/html": [
       "<div>\n",
       "<style scoped>\n",
       "    .dataframe tbody tr th:only-of-type {\n",
       "        vertical-align: middle;\n",
       "    }\n",
       "\n",
       "    .dataframe tbody tr th {\n",
       "        vertical-align: top;\n",
       "    }\n",
       "\n",
       "    .dataframe thead th {\n",
       "        text-align: right;\n",
       "    }\n",
       "</style>\n",
       "<table border=\"1\" class=\"dataframe\">\n",
       "  <thead>\n",
       "    <tr style=\"text-align: right;\">\n",
       "      <th></th>\n",
       "      <th>Sales</th>\n",
       "      <th>Discount</th>\n",
       "      <th>Profit</th>\n",
       "    </tr>\n",
       "    <tr>\n",
       "      <th>Segment</th>\n",
       "      <th></th>\n",
       "      <th></th>\n",
       "      <th></th>\n",
       "    </tr>\n",
       "  </thead>\n",
       "  <tbody>\n",
       "    <tr>\n",
       "      <th>Consumer</th>\n",
       "      <td>146.145855</td>\n",
       "      <td>0.158141</td>\n",
       "      <td>9.137196</td>\n",
       "    </tr>\n",
       "    <tr>\n",
       "      <th>Corporate</th>\n",
       "      <td>151.432576</td>\n",
       "      <td>0.158228</td>\n",
       "      <td>10.186834</td>\n",
       "    </tr>\n",
       "    <tr>\n",
       "      <th>Home Office</th>\n",
       "      <td>149.184467</td>\n",
       "      <td>0.147128</td>\n",
       "      <td>10.924768</td>\n",
       "    </tr>\n",
       "  </tbody>\n",
       "</table>\n",
       "</div>"
      ],
      "text/plain": [
       "                  Sales  Discount     Profit\n",
       "Segment                                     \n",
       "Consumer     146.145855  0.158141   9.137196\n",
       "Corporate    151.432576  0.158228  10.186834\n",
       "Home Office  149.184467  0.147128  10.924768"
      ]
     },
     "execution_count": 45,
     "metadata": {},
     "output_type": "execute_result"
    }
   ],
   "source": [
    "data_seg=df.groupby(['Segment'])[['Sales','Discount','Profit']].mean()\n",
    "data_seg"
   ]
  },
  {
   "cell_type": "markdown",
   "metadata": {},
   "source": [
    "#insights\n",
    "1.Profit is more in home office with least discount \n",
    "2.Sales is more in corporate"
   ]
  },
  {
   "cell_type": "code",
   "execution_count": 46,
   "metadata": {},
   "outputs": [
    {
     "data": {
      "image/png": "[encoded data removed]",
      "text/plain": [
       "<Figure size 1080x1440 with 3 Axes>"
      ]
     },
     "metadata": {},
     "output_type": "display_data"
    }
   ],
   "source": [
    "data_seg.plot.pie(subplots=True,figsize=(15,20),autopct=\"%1.1f%%\",startangle=90)\n",
    "plt.show()"
   ]
  },
  {
   "cell_type": "code",
   "execution_count": 47,
   "metadata": {},
   "outputs": [
    {
     "data": {
      "image/png": "[encoded data removed]",
      "text/plain": [
       "<Figure size 432x288 with 1 Axes>"
      ]
     },
     "metadata": {
      "needs_background": "light"
     },
     "output_type": "display_data"
    }
   ],
   "source": [
    "sns.barplot(data=df,x='Region',y='Profit',hue='Segment')\n",
    "plt.show()"
   ]
  },
  {
   "cell_type": "code",
   "execution_count": null,
   "metadata": {},
   "outputs": [],
   "source": [
    "#central region has least number of consumer"
   ]
  },
  {
   "cell_type": "code",
   "execution_count": null,
   "metadata": {},
   "outputs": [],
   "source": [
    "analysis of city"
   ]
  },
  {
   "cell_type": "code",
   "execution_count": 48,
   "metadata": {},
   "outputs": [
    {
     "data": {
      "text/plain": [
       "New York City    915\n",
       "Los Angeles      747\n",
       "Philadelphia     537\n",
       "San Francisco    510\n",
       "Seattle          428\n",
       "                ... \n",
       "Littleton          1\n",
       "Conroe             1\n",
       "Billings           1\n",
       "Montebello         1\n",
       "Port Orange        1\n",
       "Name: City, Length: 531, dtype: int64"
      ]
     },
     "execution_count": 48,
     "metadata": {},
     "output_type": "execute_result"
    }
   ],
   "source": [
    "city=df['City'].value_counts()\n",
    "city"
   ]
  },
  {
   "cell_type": "code",
   "execution_count": 49,
   "metadata": {},
   "outputs": [
    {
     "data": {
      "image/png": "[encoded data removed]",
      "text/plain": [
       "<Figure size 1440x360 with 1 Axes>"
      ]
     },
     "metadata": {
      "needs_background": "light"
     },
     "output_type": "display_data"
    }
   ],
   "source": [
    "city.head(30).plot(kind='bar',figsize=(20,5))\n",
    "plt.show()"
   ]
  },
  {
   "cell_type": "code",
   "execution_count": 50,
   "metadata": {},
   "outputs": [
    {
     "name": "stdout",
     "output_type": "stream",
     "text": [
      "The average number of deals per city is 19\n"
     ]
    }
   ],
   "source": [
    "print(\"The average number of deals per city is {}\".format(round(city.mean())))"
   ]
  },
  {
   "cell_type": "code",
   "execution_count": 51,
   "metadata": {},
   "outputs": [
    {
     "data": {
      "text/html": [
       "<div>\n",
       "<style scoped>\n",
       "    .dataframe tbody tr th:only-of-type {\n",
       "        vertical-align: middle;\n",
       "    }\n",
       "\n",
       "    .dataframe tbody tr th {\n",
       "        vertical-align: top;\n",
       "    }\n",
       "\n",
       "    .dataframe thead th {\n",
       "        text-align: right;\n",
       "    }\n",
       "</style>\n",
       "<table border=\"1\" class=\"dataframe\">\n",
       "  <thead>\n",
       "    <tr style=\"text-align: right;\">\n",
       "      <th></th>\n",
       "      <th>Sales</th>\n",
       "      <th>Discount</th>\n",
       "      <th>Profit</th>\n",
       "    </tr>\n",
       "    <tr>\n",
       "      <th>City</th>\n",
       "      <th></th>\n",
       "      <th></th>\n",
       "      <th></th>\n",
       "    </tr>\n",
       "  </thead>\n",
       "  <tbody>\n",
       "    <tr>\n",
       "      <th>Murrieta</th>\n",
       "      <td>484.650000</td>\n",
       "      <td>0.000000</td>\n",
       "      <td>89.28162</td>\n",
       "    </tr>\n",
       "    <tr>\n",
       "      <th>Cheyenne</th>\n",
       "      <td>572.706000</td>\n",
       "      <td>0.200000</td>\n",
       "      <td>89.28162</td>\n",
       "    </tr>\n",
       "    <tr>\n",
       "      <th>Missoula</th>\n",
       "      <td>487.984000</td>\n",
       "      <td>0.200000</td>\n",
       "      <td>89.28162</td>\n",
       "    </tr>\n",
       "    <tr>\n",
       "      <th>Independence</th>\n",
       "      <td>572.706000</td>\n",
       "      <td>0.000000</td>\n",
       "      <td>89.28162</td>\n",
       "    </tr>\n",
       "    <tr>\n",
       "      <th>Saint Peters</th>\n",
       "      <td>572.706000</td>\n",
       "      <td>0.000000</td>\n",
       "      <td>89.28162</td>\n",
       "    </tr>\n",
       "    <tr>\n",
       "      <th>...</th>\n",
       "      <td>...</td>\n",
       "      <td>...</td>\n",
       "      <td>...</td>\n",
       "    </tr>\n",
       "    <tr>\n",
       "      <th>League City</th>\n",
       "      <td>145.894667</td>\n",
       "      <td>0.233333</td>\n",
       "      <td>-15.47346</td>\n",
       "    </tr>\n",
       "    <tr>\n",
       "      <th>Fort Collins</th>\n",
       "      <td>132.688857</td>\n",
       "      <td>0.342857</td>\n",
       "      <td>-15.47346</td>\n",
       "    </tr>\n",
       "    <tr>\n",
       "      <th>Clarksville</th>\n",
       "      <td>170.339714</td>\n",
       "      <td>0.271429</td>\n",
       "      <td>-15.47346</td>\n",
       "    </tr>\n",
       "    <tr>\n",
       "      <th>Medina</th>\n",
       "      <td>206.936444</td>\n",
       "      <td>0.433333</td>\n",
       "      <td>-15.47346</td>\n",
       "    </tr>\n",
       "    <tr>\n",
       "      <th>Highland Park</th>\n",
       "      <td>242.053143</td>\n",
       "      <td>0.414286</td>\n",
       "      <td>-15.47346</td>\n",
       "    </tr>\n",
       "  </tbody>\n",
       "</table>\n",
       "<p>531 rows × 3 columns</p>\n",
       "</div>"
      ],
      "text/plain": [
       "                    Sales  Discount    Profit\n",
       "City                                         \n",
       "Murrieta       484.650000  0.000000  89.28162\n",
       "Cheyenne       572.706000  0.200000  89.28162\n",
       "Missoula       487.984000  0.200000  89.28162\n",
       "Independence   572.706000  0.000000  89.28162\n",
       "Saint Peters   572.706000  0.000000  89.28162\n",
       "...                   ...       ...       ...\n",
       "League City    145.894667  0.233333 -15.47346\n",
       "Fort Collins   132.688857  0.342857 -15.47346\n",
       "Clarksville    170.339714  0.271429 -15.47346\n",
       "Medina         206.936444  0.433333 -15.47346\n",
       "Highland Park  242.053143  0.414286 -15.47346\n",
       "\n",
       "[531 rows x 3 columns]"
      ]
     },
     "execution_count": 51,
     "metadata": {},
     "output_type": "execute_result"
    }
   ],
   "source": [
    "data_city=df.groupby(['City'])[['Sales','Discount','Profit']].mean()\n",
    "data_city=data_city.sort_values('Profit',ascending=False)\n",
    "data_city"
   ]
  },
  {
   "cell_type": "code",
   "execution_count": 52,
   "metadata": {},
   "outputs": [
    {
     "data": {
      "text/html": [
       "<div>\n",
       "<style scoped>\n",
       "    .dataframe tbody tr th:only-of-type {\n",
       "        vertical-align: middle;\n",
       "    }\n",
       "\n",
       "    .dataframe tbody tr th {\n",
       "        vertical-align: top;\n",
       "    }\n",
       "\n",
       "    .dataframe thead th {\n",
       "        text-align: right;\n",
       "    }\n",
       "</style>\n",
       "<table border=\"1\" class=\"dataframe\">\n",
       "  <thead>\n",
       "    <tr style=\"text-align: right;\">\n",
       "      <th></th>\n",
       "      <th>Sales</th>\n",
       "      <th>Discount</th>\n",
       "      <th>Profit</th>\n",
       "    </tr>\n",
       "  </thead>\n",
       "  <tbody>\n",
       "    <tr>\n",
       "      <th>count</th>\n",
       "      <td>531.000000</td>\n",
       "      <td>531.000000</td>\n",
       "      <td>531.000000</td>\n",
       "    </tr>\n",
       "    <tr>\n",
       "      <th>mean</th>\n",
       "      <td>142.662029</td>\n",
       "      <td>0.147103</td>\n",
       "      <td>10.779102</td>\n",
       "    </tr>\n",
       "    <tr>\n",
       "      <th>std</th>\n",
       "      <td>98.459770</td>\n",
       "      <td>0.169456</td>\n",
       "      <td>23.012719</td>\n",
       "    </tr>\n",
       "    <tr>\n",
       "      <th>min</th>\n",
       "      <td>1.392000</td>\n",
       "      <td>0.000000</td>\n",
       "      <td>-15.473460</td>\n",
       "    </tr>\n",
       "    <tr>\n",
       "      <th>25%</th>\n",
       "      <td>75.170714</td>\n",
       "      <td>0.000000</td>\n",
       "      <td>-7.410411</td>\n",
       "    </tr>\n",
       "    <tr>\n",
       "      <th>50%</th>\n",
       "      <td>129.283500</td>\n",
       "      <td>0.075000</td>\n",
       "      <td>8.225605</td>\n",
       "    </tr>\n",
       "    <tr>\n",
       "      <th>75%</th>\n",
       "      <td>191.740190</td>\n",
       "      <td>0.260000</td>\n",
       "      <td>23.142746</td>\n",
       "    </tr>\n",
       "    <tr>\n",
       "      <th>max</th>\n",
       "      <td>572.706000</td>\n",
       "      <td>0.800000</td>\n",
       "      <td>89.281620</td>\n",
       "    </tr>\n",
       "  </tbody>\n",
       "</table>\n",
       "</div>"
      ],
      "text/plain": [
       "            Sales    Discount      Profit\n",
       "count  531.000000  531.000000  531.000000\n",
       "mean   142.662029    0.147103   10.779102\n",
       "std     98.459770    0.169456   23.012719\n",
       "min      1.392000    0.000000  -15.473460\n",
       "25%     75.170714    0.000000   -7.410411\n",
       "50%    129.283500    0.075000    8.225605\n",
       "75%    191.740190    0.260000   23.142746\n",
       "max    572.706000    0.800000   89.281620"
      ]
     },
     "execution_count": 52,
     "metadata": {},
     "output_type": "execute_result"
    }
   ],
   "source": [
    "data_city.describe()"
   ]
  },
  {
   "cell_type": "markdown",
   "metadata": {},
   "source": [
    "Insights:\n",
    "25% of states donot provide Discount\n",
    "25% of states has negative profit"
   ]
  },
  {
   "cell_type": "code",
   "execution_count": 53,
   "metadata": {},
   "outputs": [
    {
     "data": {
      "text/plain": [
       "California              2001\n",
       "New York                1128\n",
       "Texas                    985\n",
       "Pennsylvania             587\n",
       "Washington               506\n",
       "Illinois                 492\n",
       "Ohio                     469\n",
       "Florida                  383\n",
       "Michigan                 255\n",
       "North Carolina           249\n",
       "Arizona                  224\n",
       "Virginia                 224\n",
       "Georgia                  184\n",
       "Tennessee                183\n",
       "Colorado                 182\n",
       "Indiana                  149\n",
       "Kentucky                 139\n",
       "Massachusetts            135\n",
       "New Jersey               130\n",
       "Oregon                   124\n",
       "Wisconsin                110\n",
       "Maryland                 105\n",
       "Delaware                  96\n",
       "Minnesota                 89\n",
       "Connecticut               82\n",
       "Oklahoma                  66\n",
       "Missouri                  66\n",
       "Alabama                   61\n",
       "Arkansas                  60\n",
       "Rhode Island              56\n",
       "Mississippi               53\n",
       "Utah                      53\n",
       "South Carolina            42\n",
       "Louisiana                 42\n",
       "Nevada                    39\n",
       "Nebraska                  38\n",
       "New Mexico                37\n",
       "Iowa                      30\n",
       "New Hampshire             27\n",
       "Kansas                    24\n",
       "Idaho                     21\n",
       "Montana                   15\n",
       "South Dakota              12\n",
       "Vermont                   11\n",
       "District of Columbia      10\n",
       "Maine                      8\n",
       "North Dakota               7\n",
       "West Virginia              4\n",
       "Wyoming                    1\n",
       "Name: State, dtype: int64"
      ]
     },
     "execution_count": 53,
     "metadata": {},
     "output_type": "execute_result"
    }
   ],
   "source": [
    "state=df['State'].value_counts()\n",
    "state"
   ]
  },
  {
   "cell_type": "code",
   "execution_count": 54,
   "metadata": {},
   "outputs": [
    {
     "data": {
      "image/png": "[encoded data removed]",
      "text/plain": [
       "<Figure size 1440x360 with 1 Axes>"
      ]
     },
     "metadata": {
      "needs_background": "light"
     },
     "output_type": "display_data"
    }
   ],
   "source": [
    "state.head(30).plot(kind='bar',figsize=(20,5))\n",
    "plt.show()"
   ]
  },
  {
   "cell_type": "code",
   "execution_count": 55,
   "metadata": {},
   "outputs": [
    {
     "name": "stdout",
     "output_type": "stream",
     "text": [
      "The average number of deals per state is 204\n"
     ]
    }
   ],
   "source": [
    "print(\"The average number of deals per state is {}\".format(round(state.mean())))"
   ]
  },
  {
   "cell_type": "code",
   "execution_count": 56,
   "metadata": {},
   "outputs": [
    {
     "data": {
      "text/html": [
       "<div>\n",
       "<style scoped>\n",
       "    .dataframe tbody tr th:only-of-type {\n",
       "        vertical-align: middle;\n",
       "    }\n",
       "\n",
       "    .dataframe tbody tr th {\n",
       "        vertical-align: top;\n",
       "    }\n",
       "\n",
       "    .dataframe thead th {\n",
       "        text-align: right;\n",
       "    }\n",
       "</style>\n",
       "<table border=\"1\" class=\"dataframe\">\n",
       "  <thead>\n",
       "    <tr style=\"text-align: right;\">\n",
       "      <th></th>\n",
       "      <th>Sales</th>\n",
       "      <th>Discount</th>\n",
       "      <th>Profit</th>\n",
       "    </tr>\n",
       "    <tr>\n",
       "      <th>State</th>\n",
       "      <th></th>\n",
       "      <th></th>\n",
       "      <th></th>\n",
       "    </tr>\n",
       "  </thead>\n",
       "  <tbody>\n",
       "    <tr>\n",
       "      <th>Wyoming</th>\n",
       "      <td>572.706000</td>\n",
       "      <td>0.200000</td>\n",
       "      <td>89.281620</td>\n",
       "    </tr>\n",
       "    <tr>\n",
       "      <th>Vermont</th>\n",
       "      <td>294.641273</td>\n",
       "      <td>0.000000</td>\n",
       "      <td>49.836493</td>\n",
       "    </tr>\n",
       "    <tr>\n",
       "      <th>Maine</th>\n",
       "      <td>158.816250</td>\n",
       "      <td>0.000000</td>\n",
       "      <td>35.361560</td>\n",
       "    </tr>\n",
       "    <tr>\n",
       "      <th>Mississippi</th>\n",
       "      <td>160.485736</td>\n",
       "      <td>0.000000</td>\n",
       "      <td>30.956274</td>\n",
       "    </tr>\n",
       "    <tr>\n",
       "      <th>Wisconsin</th>\n",
       "      <td>198.869345</td>\n",
       "      <td>0.000000</td>\n",
       "      <td>30.346527</td>\n",
       "    </tr>\n",
       "    <tr>\n",
       "      <th>Oklahoma</th>\n",
       "      <td>202.805909</td>\n",
       "      <td>0.000000</td>\n",
       "      <td>30.211258</td>\n",
       "    </tr>\n",
       "    <tr>\n",
       "      <th>Michigan</th>\n",
       "      <td>176.051161</td>\n",
       "      <td>0.007059</td>\n",
       "      <td>28.595887</td>\n",
       "    </tr>\n",
       "    <tr>\n",
       "      <th>Nevada</th>\n",
       "      <td>179.168718</td>\n",
       "      <td>0.061538</td>\n",
       "      <td>28.220287</td>\n",
       "    </tr>\n",
       "    <tr>\n",
       "      <th>Georgia</th>\n",
       "      <td>160.786054</td>\n",
       "      <td>0.000000</td>\n",
       "      <td>27.478809</td>\n",
       "    </tr>\n",
       "    <tr>\n",
       "      <th>Arkansas</th>\n",
       "      <td>155.119533</td>\n",
       "      <td>0.000000</td>\n",
       "      <td>26.975731</td>\n",
       "    </tr>\n",
       "  </tbody>\n",
       "</table>\n",
       "</div>"
      ],
      "text/plain": [
       "                  Sales  Discount     Profit\n",
       "State                                       \n",
       "Wyoming      572.706000  0.200000  89.281620\n",
       "Vermont      294.641273  0.000000  49.836493\n",
       "Maine        158.816250  0.000000  35.361560\n",
       "Mississippi  160.485736  0.000000  30.956274\n",
       "Wisconsin    198.869345  0.000000  30.346527\n",
       "Oklahoma     202.805909  0.000000  30.211258\n",
       "Michigan     176.051161  0.007059  28.595887\n",
       "Nevada       179.168718  0.061538  28.220287\n",
       "Georgia      160.786054  0.000000  27.478809\n",
       "Arkansas     155.119533  0.000000  26.975731"
      ]
     },
     "execution_count": 56,
     "metadata": {},
     "output_type": "execute_result"
    }
   ],
   "source": [
    "data_state=df.groupby(['State'])[['Sales','Discount','Profit']].mean()\n",
    "data_state=data_state.sort_values('Profit',ascending=False)\n",
    "data_state.head(10)"
   ]
  },
  {
   "cell_type": "code",
   "execution_count": 57,
   "metadata": {},
   "outputs": [
    {
     "data": {
      "text/html": [
       "<div>\n",
       "<style scoped>\n",
       "    .dataframe tbody tr th:only-of-type {\n",
       "        vertical-align: middle;\n",
       "    }\n",
       "\n",
       "    .dataframe tbody tr th {\n",
       "        vertical-align: top;\n",
       "    }\n",
       "\n",
       "    .dataframe thead th {\n",
       "        text-align: right;\n",
       "    }\n",
       "</style>\n",
       "<table border=\"1\" class=\"dataframe\">\n",
       "  <thead>\n",
       "    <tr style=\"text-align: right;\">\n",
       "      <th></th>\n",
       "      <th>Sales</th>\n",
       "      <th>Discount</th>\n",
       "      <th>Profit</th>\n",
       "    </tr>\n",
       "  </thead>\n",
       "  <tbody>\n",
       "    <tr>\n",
       "      <th>count</th>\n",
       "      <td>49.000000</td>\n",
       "      <td>49.000000</td>\n",
       "      <td>49.000000</td>\n",
       "    </tr>\n",
       "    <tr>\n",
       "      <th>mean</th>\n",
       "      <td>165.564011</td>\n",
       "      <td>0.083196</td>\n",
       "      <td>18.627239</td>\n",
       "    </tr>\n",
       "    <tr>\n",
       "      <th>std</th>\n",
       "      <td>69.563282</td>\n",
       "      <td>0.127145</td>\n",
       "      <td>16.470351</td>\n",
       "    </tr>\n",
       "    <tr>\n",
       "      <th>min</th>\n",
       "      <td>104.411733</td>\n",
       "      <td>0.000000</td>\n",
       "      <td>-8.475145</td>\n",
       "    </tr>\n",
       "    <tr>\n",
       "      <th>25%</th>\n",
       "      <td>134.227759</td>\n",
       "      <td>0.000000</td>\n",
       "      <td>14.372025</td>\n",
       "    </tr>\n",
       "    <tr>\n",
       "      <th>50%</th>\n",
       "      <td>159.048850</td>\n",
       "      <td>0.007059</td>\n",
       "      <td>18.702222</td>\n",
       "    </tr>\n",
       "    <tr>\n",
       "      <th>75%</th>\n",
       "      <td>173.919600</td>\n",
       "      <td>0.075000</td>\n",
       "      <td>26.318900</td>\n",
       "    </tr>\n",
       "    <tr>\n",
       "      <th>max</th>\n",
       "      <td>572.706000</td>\n",
       "      <td>0.390041</td>\n",
       "      <td>89.281620</td>\n",
       "    </tr>\n",
       "  </tbody>\n",
       "</table>\n",
       "</div>"
      ],
      "text/plain": [
       "            Sales   Discount     Profit\n",
       "count   49.000000  49.000000  49.000000\n",
       "mean   165.564011   0.083196  18.627239\n",
       "std     69.563282   0.127145  16.470351\n",
       "min    104.411733   0.000000  -8.475145\n",
       "25%    134.227759   0.000000  14.372025\n",
       "50%    159.048850   0.007059  18.702222\n",
       "75%    173.919600   0.075000  26.318900\n",
       "max    572.706000   0.390041  89.281620"
      ]
     },
     "execution_count": 57,
     "metadata": {},
     "output_type": "execute_result"
    }
   ],
   "source": [
    "data_state.describe()"
   ]
  },
  {
   "cell_type": "markdown",
   "metadata": {},
   "source": [
    "insights:\n",
    "1.Wyoming has greatest profit among states\n",
    "2.25 percent of state dont give discount"
   ]
  },
  {
   "cell_type": "code",
   "execution_count": null,
   "metadata": {},
   "outputs": [],
   "source": [
    "#Analysis of region"
   ]
  },
  {
   "cell_type": "code",
   "execution_count": 59,
   "metadata": {},
   "outputs": [
    {
     "data": {
      "text/plain": [
       "Central    2323\n",
       "East       2848\n",
       "South      1620\n",
       "West       3203\n",
       "Name: Region, dtype: int64"
      ]
     },
     "execution_count": 59,
     "metadata": {},
     "output_type": "execute_result"
    }
   ],
   "source": [
    "region=df['Region'].value_counts().sort_index()\n",
    "region"
   ]
  },
  {
   "cell_type": "code",
   "execution_count": 60,
   "metadata": {},
   "outputs": [
    {
     "data": {
      "image/png": "[encoded data removed]",
      "text/plain": [
       "<Figure size 432x288 with 1 Axes>"
      ]
     },
     "metadata": {},
     "output_type": "display_data"
    }
   ],
   "source": [
    "region.plot.pie(subplots=True,autopct=\"%1.1f\",startangle=90)\n",
    "plt.show()"
   ]
  },
  {
   "cell_type": "code",
   "execution_count": 61,
   "metadata": {},
   "outputs": [
    {
     "data": {
      "text/html": [
       "<div>\n",
       "<style scoped>\n",
       "    .dataframe tbody tr th:only-of-type {\n",
       "        vertical-align: middle;\n",
       "    }\n",
       "\n",
       "    .dataframe tbody tr th {\n",
       "        vertical-align: top;\n",
       "    }\n",
       "\n",
       "    .dataframe thead th {\n",
       "        text-align: right;\n",
       "    }\n",
       "</style>\n",
       "<table border=\"1\" class=\"dataframe\">\n",
       "  <thead>\n",
       "    <tr style=\"text-align: right;\">\n",
       "      <th></th>\n",
       "      <th>Sales</th>\n",
       "      <th>Discount</th>\n",
       "      <th>Profit</th>\n",
       "    </tr>\n",
       "    <tr>\n",
       "      <th>Region</th>\n",
       "      <th></th>\n",
       "      <th></th>\n",
       "      <th></th>\n",
       "    </tr>\n",
       "  </thead>\n",
       "  <tbody>\n",
       "    <tr>\n",
       "      <th>Central</th>\n",
       "      <td>141.627216</td>\n",
       "      <td>0.240353</td>\n",
       "      <td>5.670499</td>\n",
       "    </tr>\n",
       "    <tr>\n",
       "      <th>East</th>\n",
       "      <td>148.402750</td>\n",
       "      <td>0.145365</td>\n",
       "      <td>9.609927</td>\n",
       "    </tr>\n",
       "    <tr>\n",
       "      <th>South</th>\n",
       "      <td>149.368900</td>\n",
       "      <td>0.147253</td>\n",
       "      <td>11.624859</td>\n",
       "    </tr>\n",
       "    <tr>\n",
       "      <th>West</th>\n",
       "      <td>152.462299</td>\n",
       "      <td>0.109335</td>\n",
       "      <td>11.957655</td>\n",
       "    </tr>\n",
       "  </tbody>\n",
       "</table>\n",
       "</div>"
      ],
      "text/plain": [
       "              Sales  Discount     Profit\n",
       "Region                                  \n",
       "Central  141.627216  0.240353   5.670499\n",
       "East     148.402750  0.145365   9.609927\n",
       "South    149.368900  0.147253  11.624859\n",
       "West     152.462299  0.109335  11.957655"
      ]
     },
     "execution_count": 61,
     "metadata": {},
     "output_type": "execute_result"
    }
   ],
   "source": [
    "data_reg=df.groupby(['Region'])[['Sales','Discount','Profit']].mean()\n",
    "data_reg"
   ]
  },
  {
   "cell_type": "markdown",
   "metadata": {},
   "source": [
    "#insights \n",
    "Profit is more in west region and least in central region\n",
    "Discount is provided more in Central region and lease in west region\n"
   ]
  },
  {
   "cell_type": "code",
   "execution_count": 62,
   "metadata": {},
   "outputs": [
    {
     "data": {
      "image/png": "[encoded data removed]",
      "text/plain": [
       "<Figure size 1080x1440 with 3 Axes>"
      ]
     },
     "metadata": {},
     "output_type": "display_data"
    }
   ],
   "source": [
    "data_reg.plot.pie(subplots=True,figsize=(15,20),autopct=\"%1.1f%%\",startangle=90)\n",
    "plt.show()"
   ]
  },
  {
   "cell_type": "code",
   "execution_count": 63,
   "metadata": {},
   "outputs": [
    {
     "data": {
      "image/png": "[encoded data removed]",
      "text/plain": [
       "<Figure size 432x288 with 1 Axes>"
      ]
     },
     "metadata": {
      "needs_background": "light"
     },
     "output_type": "display_data"
    }
   ],
   "source": [
    "sns.barplot(data=df,x='Region',y='Profit',hue='Category')\n",
    "plt.show()"
   ]
  },
  {
   "cell_type": "code",
   "execution_count": null,
   "metadata": {},
   "outputs": [],
   "source": [
    "#profit for office supply is least in all region\n",
    "#profit for furniture is also low"
   ]
  },
  {
   "cell_type": "code",
   "execution_count": null,
   "metadata": {},
   "outputs": [],
   "source": [
    "#analysis of category\n"
   ]
  },
  {
   "cell_type": "code",
   "execution_count": 64,
   "metadata": {},
   "outputs": [
    {
     "data": {
      "text/plain": [
       "Furniture          2121\n",
       "Office Supplies    6026\n",
       "Technology         1847\n",
       "Name: Category, dtype: int64"
      ]
     },
     "execution_count": 64,
     "metadata": {},
     "output_type": "execute_result"
    }
   ],
   "source": [
    "categ=df['Category'].value_counts().sort_index()\n",
    "categ"
   ]
  },
  {
   "cell_type": "code",
   "execution_count": 65,
   "metadata": {},
   "outputs": [
    {
     "data": {
      "image/png": "[encoded data removed]",
      "text/plain": [
       "<Figure size 432x288 with 1 Axes>"
      ]
     },
     "metadata": {},
     "output_type": "display_data"
    }
   ],
   "source": [
    "categ.plot.pie(subplots=True,autopct=\"%1.1f\",startangle=90)\n",
    "plt.show()"
   ]
  },
  {
   "cell_type": "code",
   "execution_count": 66,
   "metadata": {},
   "outputs": [
    {
     "data": {
      "text/html": [
       "<div>\n",
       "<style scoped>\n",
       "    .dataframe tbody tr th:only-of-type {\n",
       "        vertical-align: middle;\n",
       "    }\n",
       "\n",
       "    .dataframe tbody tr th {\n",
       "        vertical-align: top;\n",
       "    }\n",
       "\n",
       "    .dataframe thead th {\n",
       "        text-align: right;\n",
       "    }\n",
       "</style>\n",
       "<table border=\"1\" class=\"dataframe\">\n",
       "  <thead>\n",
       "    <tr style=\"text-align: right;\">\n",
       "      <th></th>\n",
       "      <th>Sales</th>\n",
       "      <th>Discount</th>\n",
       "      <th>Profit</th>\n",
       "    </tr>\n",
       "    <tr>\n",
       "      <th>Category</th>\n",
       "      <th></th>\n",
       "      <th></th>\n",
       "      <th></th>\n",
       "    </tr>\n",
       "  </thead>\n",
       "  <tbody>\n",
       "    <tr>\n",
       "      <th>Furniture</th>\n",
       "      <td>241.639276</td>\n",
       "      <td>0.173923</td>\n",
       "      <td>10.949004</td>\n",
       "    </tr>\n",
       "    <tr>\n",
       "      <th>Office Supplies</th>\n",
       "      <td>85.236682</td>\n",
       "      <td>0.157285</td>\n",
       "      <td>3.446215</td>\n",
       "    </tr>\n",
       "    <tr>\n",
       "      <th>Technology</th>\n",
       "      <td>246.785202</td>\n",
       "      <td>0.132323</td>\n",
       "      <td>29.065812</td>\n",
       "    </tr>\n",
       "  </tbody>\n",
       "</table>\n",
       "</div>"
      ],
      "text/plain": [
       "                      Sales  Discount     Profit\n",
       "Category                                        \n",
       "Furniture        241.639276  0.173923  10.949004\n",
       "Office Supplies   85.236682  0.157285   3.446215\n",
       "Technology       246.785202  0.132323  29.065812"
      ]
     },
     "execution_count": 66,
     "metadata": {},
     "output_type": "execute_result"
    }
   ],
   "source": [
    "data_categ=df.groupby(['Category'])[['Sales','Discount','Profit']].mean()\n",
    "data_categ"
   ]
  },
  {
   "cell_type": "code",
   "execution_count": 67,
   "metadata": {},
   "outputs": [
    {
     "data": {
      "image/png": "[encoded data removed]",
      "text/plain": [
       "<Figure size 1080x1440 with 3 Axes>"
      ]
     },
     "metadata": {},
     "output_type": "display_data"
    }
   ],
   "source": [
    "data_categ.plot.pie(subplots=True,figsize=(15,20),autopct=\"%1.1f%%\",startangle=90)\n",
    "plt.show()"
   ]
  },
  {
   "cell_type": "code",
   "execution_count": null,
   "metadata": {},
   "outputs": [],
   "source": [
    "#analysis of sub category\n"
   ]
  },
  {
   "cell_type": "code",
   "execution_count": 68,
   "metadata": {},
   "outputs": [
    {
     "data": {
      "text/plain": [
       "Accessories     775\n",
       "Appliances      466\n",
       "Art             796\n",
       "Binders        1523\n",
       "Bookcases       228\n",
       "Chairs          617\n",
       "Copiers          68\n",
       "Envelopes       254\n",
       "Fasteners       217\n",
       "Furnishings     957\n",
       "Labels          364\n",
       "Machines        115\n",
       "Paper          1370\n",
       "Phones          889\n",
       "Storage         846\n",
       "Supplies        190\n",
       "Tables          319\n",
       "Name: Sub-Category, dtype: int64"
      ]
     },
     "execution_count": 68,
     "metadata": {},
     "output_type": "execute_result"
    }
   ],
   "source": [
    "subcateg=df['Sub-Category'].value_counts().sort_index()\n",
    "subcateg"
   ]
  },
  {
   "cell_type": "code",
   "execution_count": 69,
   "metadata": {},
   "outputs": [
    {
     "data": {
      "text/html": [
       "<div>\n",
       "<style scoped>\n",
       "    .dataframe tbody tr th:only-of-type {\n",
       "        vertical-align: middle;\n",
       "    }\n",
       "\n",
       "    .dataframe tbody tr th {\n",
       "        vertical-align: top;\n",
       "    }\n",
       "\n",
       "    .dataframe thead th {\n",
       "        text-align: right;\n",
       "    }\n",
       "</style>\n",
       "<table border=\"1\" class=\"dataframe\">\n",
       "  <thead>\n",
       "    <tr style=\"text-align: right;\">\n",
       "      <th></th>\n",
       "      <th>Sales</th>\n",
       "      <th>Discount</th>\n",
       "      <th>Profit</th>\n",
       "    </tr>\n",
       "    <tr>\n",
       "      <th>Sub-Category</th>\n",
       "      <th></th>\n",
       "      <th></th>\n",
       "      <th></th>\n",
       "    </tr>\n",
       "  </thead>\n",
       "  <tbody>\n",
       "    <tr>\n",
       "      <th>Accessories</th>\n",
       "      <td>170.631014</td>\n",
       "      <td>0.078452</td>\n",
       "      <td>24.278113</td>\n",
       "    </tr>\n",
       "    <tr>\n",
       "      <th>Appliances</th>\n",
       "      <td>168.452071</td>\n",
       "      <td>0.166524</td>\n",
       "      <td>22.393444</td>\n",
       "    </tr>\n",
       "    <tr>\n",
       "      <th>Art</th>\n",
       "      <td>33.390043</td>\n",
       "      <td>0.074874</td>\n",
       "      <td>-8.886688</td>\n",
       "    </tr>\n",
       "    <tr>\n",
       "      <th>Binders</th>\n",
       "      <td>69.975475</td>\n",
       "      <td>0.372292</td>\n",
       "      <td>0.922746</td>\n",
       "    </tr>\n",
       "    <tr>\n",
       "      <th>Bookcases</th>\n",
       "      <td>333.785415</td>\n",
       "      <td>0.211140</td>\n",
       "      <td>12.815108</td>\n",
       "    </tr>\n",
       "    <tr>\n",
       "      <th>Chairs</th>\n",
       "      <td>359.486345</td>\n",
       "      <td>0.170178</td>\n",
       "      <td>21.807324</td>\n",
       "    </tr>\n",
       "    <tr>\n",
       "      <th>Copiers</th>\n",
       "      <td>549.311824</td>\n",
       "      <td>0.161765</td>\n",
       "      <td>87.212477</td>\n",
       "    </tr>\n",
       "    <tr>\n",
       "      <th>Envelopes</th>\n",
       "      <td>64.741937</td>\n",
       "      <td>0.080315</td>\n",
       "      <td>12.176751</td>\n",
       "    </tr>\n",
       "    <tr>\n",
       "      <th>Fasteners</th>\n",
       "      <td>13.936774</td>\n",
       "      <td>0.082028</td>\n",
       "      <td>-13.744459</td>\n",
       "    </tr>\n",
       "    <tr>\n",
       "      <th>Furnishings</th>\n",
       "      <td>90.703484</td>\n",
       "      <td>0.138349</td>\n",
       "      <td>3.753250</td>\n",
       "    </tr>\n",
       "    <tr>\n",
       "      <th>Labels</th>\n",
       "      <td>33.560604</td>\n",
       "      <td>0.068681</td>\n",
       "      <td>-4.493336</td>\n",
       "    </tr>\n",
       "    <tr>\n",
       "      <th>Machines</th>\n",
       "      <td>430.810322</td>\n",
       "      <td>0.306087</td>\n",
       "      <td>38.182175</td>\n",
       "    </tr>\n",
       "    <tr>\n",
       "      <th>Paper</th>\n",
       "      <td>57.042905</td>\n",
       "      <td>0.074891</td>\n",
       "      <td>9.098980</td>\n",
       "    </tr>\n",
       "    <tr>\n",
       "      <th>Phones</th>\n",
       "      <td>266.228169</td>\n",
       "      <td>0.154556</td>\n",
       "      <td>27.612619</td>\n",
       "    </tr>\n",
       "    <tr>\n",
       "      <th>Storage</th>\n",
       "      <td>206.841924</td>\n",
       "      <td>0.074704</td>\n",
       "      <td>8.058305</td>\n",
       "    </tr>\n",
       "    <tr>\n",
       "      <th>Supplies</th>\n",
       "      <td>90.340084</td>\n",
       "      <td>0.076842</td>\n",
       "      <td>-9.251012</td>\n",
       "    </tr>\n",
       "    <tr>\n",
       "      <th>Tables</th>\n",
       "      <td>400.650533</td>\n",
       "      <td>0.261285</td>\n",
       "      <td>10.200671</td>\n",
       "    </tr>\n",
       "  </tbody>\n",
       "</table>\n",
       "</div>"
      ],
      "text/plain": [
       "                   Sales  Discount     Profit\n",
       "Sub-Category                                 \n",
       "Accessories   170.631014  0.078452  24.278113\n",
       "Appliances    168.452071  0.166524  22.393444\n",
       "Art            33.390043  0.074874  -8.886688\n",
       "Binders        69.975475  0.372292   0.922746\n",
       "Bookcases     333.785415  0.211140  12.815108\n",
       "Chairs        359.486345  0.170178  21.807324\n",
       "Copiers       549.311824  0.161765  87.212477\n",
       "Envelopes      64.741937  0.080315  12.176751\n",
       "Fasteners      13.936774  0.082028 -13.744459\n",
       "Furnishings    90.703484  0.138349   3.753250\n",
       "Labels         33.560604  0.068681  -4.493336\n",
       "Machines      430.810322  0.306087  38.182175\n",
       "Paper          57.042905  0.074891   9.098980\n",
       "Phones        266.228169  0.154556  27.612619\n",
       "Storage       206.841924  0.074704   8.058305\n",
       "Supplies       90.340084  0.076842  -9.251012\n",
       "Tables        400.650533  0.261285  10.200671"
      ]
     },
     "execution_count": 69,
     "metadata": {},
     "output_type": "execute_result"
    }
   ],
   "source": [
    "data_subcateg=df.groupby(['Sub-Category'])[['Sales','Discount','Profit']].mean()\n",
    "data_subcateg"
   ]
  },
  {
   "cell_type": "code",
   "execution_count": null,
   "metadata": {},
   "outputs": [],
   "source": [
    "#analysis of Quantity"
   ]
  },
  {
   "cell_type": "code",
   "execution_count": 70,
   "metadata": {},
   "outputs": [
    {
     "data": {
      "text/plain": [
       "1      899\n",
       "2     2402\n",
       "3     2409\n",
       "4     1191\n",
       "5     1230\n",
       "6      572\n",
       "7      606\n",
       "8      257\n",
       "9      258\n",
       "10      57\n",
       "11      34\n",
       "12      23\n",
       "13      27\n",
       "14      29\n",
       "Name: Quantity, dtype: int64"
      ]
     },
     "execution_count": 70,
     "metadata": {},
     "output_type": "execute_result"
    }
   ],
   "source": [
    "quant=df['Quantity'].value_counts().sort_index()\n",
    "quant"
   ]
  },
  {
   "cell_type": "code",
   "execution_count": 71,
   "metadata": {},
   "outputs": [
    {
     "data": {
      "text/html": [
       "<div>\n",
       "<style scoped>\n",
       "    .dataframe tbody tr th:only-of-type {\n",
       "        vertical-align: middle;\n",
       "    }\n",
       "\n",
       "    .dataframe tbody tr th {\n",
       "        vertical-align: top;\n",
       "    }\n",
       "\n",
       "    .dataframe thead th {\n",
       "        text-align: right;\n",
       "    }\n",
       "</style>\n",
       "<table border=\"1\" class=\"dataframe\">\n",
       "  <thead>\n",
       "    <tr style=\"text-align: right;\">\n",
       "      <th></th>\n",
       "      <th>Sales</th>\n",
       "      <th>Discount</th>\n",
       "      <th>Profit</th>\n",
       "    </tr>\n",
       "    <tr>\n",
       "      <th>Quantity</th>\n",
       "      <th></th>\n",
       "      <th></th>\n",
       "      <th></th>\n",
       "    </tr>\n",
       "  </thead>\n",
       "  <tbody>\n",
       "    <tr>\n",
       "      <th>1</th>\n",
       "      <td>56.889749</td>\n",
       "      <td>0.152959</td>\n",
       "      <td>-6.325892</td>\n",
       "    </tr>\n",
       "    <tr>\n",
       "      <th>2</th>\n",
       "      <td>102.622791</td>\n",
       "      <td>0.154858</td>\n",
       "      <td>1.457855</td>\n",
       "    </tr>\n",
       "    <tr>\n",
       "      <th>3</th>\n",
       "      <td>138.619019</td>\n",
       "      <td>0.153329</td>\n",
       "      <td>7.471861</td>\n",
       "    </tr>\n",
       "    <tr>\n",
       "      <th>4</th>\n",
       "      <td>166.326063</td>\n",
       "      <td>0.157708</td>\n",
       "      <td>11.815924</td>\n",
       "    </tr>\n",
       "    <tr>\n",
       "      <th>5</th>\n",
       "      <td>192.305350</td>\n",
       "      <td>0.157146</td>\n",
       "      <td>16.971238</td>\n",
       "    </tr>\n",
       "    <tr>\n",
       "      <th>6</th>\n",
       "      <td>204.130427</td>\n",
       "      <td>0.166556</td>\n",
       "      <td>18.819743</td>\n",
       "    </tr>\n",
       "    <tr>\n",
       "      <th>7</th>\n",
       "      <td>210.016326</td>\n",
       "      <td>0.161980</td>\n",
       "      <td>23.378966</td>\n",
       "    </tr>\n",
       "    <tr>\n",
       "      <th>8</th>\n",
       "      <td>234.459471</td>\n",
       "      <td>0.171595</td>\n",
       "      <td>26.951404</td>\n",
       "    </tr>\n",
       "    <tr>\n",
       "      <th>9</th>\n",
       "      <td>255.739012</td>\n",
       "      <td>0.147946</td>\n",
       "      <td>32.611998</td>\n",
       "    </tr>\n",
       "    <tr>\n",
       "      <th>10</th>\n",
       "      <td>233.649509</td>\n",
       "      <td>0.190702</td>\n",
       "      <td>24.181628</td>\n",
       "    </tr>\n",
       "    <tr>\n",
       "      <th>11</th>\n",
       "      <td>257.332676</td>\n",
       "      <td>0.097059</td>\n",
       "      <td>49.204821</td>\n",
       "    </tr>\n",
       "    <tr>\n",
       "      <th>12</th>\n",
       "      <td>274.284522</td>\n",
       "      <td>0.113043</td>\n",
       "      <td>30.298291</td>\n",
       "    </tr>\n",
       "    <tr>\n",
       "      <th>13</th>\n",
       "      <td>315.448741</td>\n",
       "      <td>0.157407</td>\n",
       "      <td>51.063329</td>\n",
       "    </tr>\n",
       "    <tr>\n",
       "      <th>14</th>\n",
       "      <td>296.421034</td>\n",
       "      <td>0.151724</td>\n",
       "      <td>52.157007</td>\n",
       "    </tr>\n",
       "  </tbody>\n",
       "</table>\n",
       "</div>"
      ],
      "text/plain": [
       "               Sales  Discount     Profit\n",
       "Quantity                                 \n",
       "1          56.889749  0.152959  -6.325892\n",
       "2         102.622791  0.154858   1.457855\n",
       "3         138.619019  0.153329   7.471861\n",
       "4         166.326063  0.157708  11.815924\n",
       "5         192.305350  0.157146  16.971238\n",
       "6         204.130427  0.166556  18.819743\n",
       "7         210.016326  0.161980  23.378966\n",
       "8         234.459471  0.171595  26.951404\n",
       "9         255.739012  0.147946  32.611998\n",
       "10        233.649509  0.190702  24.181628\n",
       "11        257.332676  0.097059  49.204821\n",
       "12        274.284522  0.113043  30.298291\n",
       "13        315.448741  0.157407  51.063329\n",
       "14        296.421034  0.151724  52.157007"
      ]
     },
     "execution_count": 71,
     "metadata": {},
     "output_type": "execute_result"
    }
   ],
   "source": [
    "data_quant=df.groupby(['Quantity'])[['Sales','Discount','Profit']].mean()\n",
    "data_quant"
   ]
  },
  {
   "cell_type": "code",
   "execution_count": 72,
   "metadata": {},
   "outputs": [
    {
     "data": {
      "text/html": [
       "<div>\n",
       "<style scoped>\n",
       "    .dataframe tbody tr th:only-of-type {\n",
       "        vertical-align: middle;\n",
       "    }\n",
       "\n",
       "    .dataframe tbody tr th {\n",
       "        vertical-align: top;\n",
       "    }\n",
       "\n",
       "    .dataframe thead th {\n",
       "        text-align: right;\n",
       "    }\n",
       "</style>\n",
       "<table border=\"1\" class=\"dataframe\">\n",
       "  <thead>\n",
       "    <tr style=\"text-align: right;\">\n",
       "      <th></th>\n",
       "      <th>Sales</th>\n",
       "      <th>Discount</th>\n",
       "      <th>Profit</th>\n",
       "    </tr>\n",
       "  </thead>\n",
       "  <tbody>\n",
       "    <tr>\n",
       "      <th>count</th>\n",
       "      <td>14.000000</td>\n",
       "      <td>14.000000</td>\n",
       "      <td>14.000000</td>\n",
       "    </tr>\n",
       "    <tr>\n",
       "      <th>mean</th>\n",
       "      <td>209.874621</td>\n",
       "      <td>0.152430</td>\n",
       "      <td>24.289870</td>\n",
       "    </tr>\n",
       "    <tr>\n",
       "      <th>std</th>\n",
       "      <td>73.658850</td>\n",
       "      <td>0.022942</td>\n",
       "      <td>17.991429</td>\n",
       "    </tr>\n",
       "    <tr>\n",
       "      <th>min</th>\n",
       "      <td>56.889749</td>\n",
       "      <td>0.097059</td>\n",
       "      <td>-6.325892</td>\n",
       "    </tr>\n",
       "    <tr>\n",
       "      <th>25%</th>\n",
       "      <td>172.820885</td>\n",
       "      <td>0.152033</td>\n",
       "      <td>13.104753</td>\n",
       "    </tr>\n",
       "    <tr>\n",
       "      <th>50%</th>\n",
       "      <td>221.832917</td>\n",
       "      <td>0.156002</td>\n",
       "      <td>23.780297</td>\n",
       "    </tr>\n",
       "    <tr>\n",
       "      <th>75%</th>\n",
       "      <td>256.934260</td>\n",
       "      <td>0.160912</td>\n",
       "      <td>32.033572</td>\n",
       "    </tr>\n",
       "    <tr>\n",
       "      <th>max</th>\n",
       "      <td>315.448741</td>\n",
       "      <td>0.190702</td>\n",
       "      <td>52.157007</td>\n",
       "    </tr>\n",
       "  </tbody>\n",
       "</table>\n",
       "</div>"
      ],
      "text/plain": [
       "            Sales   Discount     Profit\n",
       "count   14.000000  14.000000  14.000000\n",
       "mean   209.874621   0.152430  24.289870\n",
       "std     73.658850   0.022942  17.991429\n",
       "min     56.889749   0.097059  -6.325892\n",
       "25%    172.820885   0.152033  13.104753\n",
       "50%    221.832917   0.156002  23.780297\n",
       "75%    256.934260   0.160912  32.033572\n",
       "max    315.448741   0.190702  52.157007"
      ]
     },
     "execution_count": 72,
     "metadata": {},
     "output_type": "execute_result"
    }
   ],
   "source": [
    "data_quant.describe()"
   ]
  },
  {
   "cell_type": "code",
   "execution_count": 74,
   "metadata": {},
   "outputs": [
    {
     "data": {
      "image/png": "[encoded data removed]",
      "text/plain": [
       "<Figure size 432x288 with 1 Axes>"
      ]
     },
     "metadata": {
      "needs_background": "light"
     },
     "output_type": "display_data"
    }
   ],
   "source": [
    "sns.lineplot('Quantity','Profit',data=df,label=\"Profit vs Discount\")\n",
    "plt.show()"
   ]
  },
  {
   "cell_type": "code",
   "execution_count": null,
   "metadata": {},
   "outputs": [],
   "source": [
    "#Insights:\n",
    "profit increase with quantity"
   ]
  },
  {
   "cell_type": "code",
   "execution_count": 75,
   "metadata": {},
   "outputs": [
    {
     "data": {
      "image/png": "[encoded data removed]",
      "text/plain": [
       "<Figure size 432x288 with 1 Axes>"
      ]
     },
     "metadata": {
      "needs_background": "light"
     },
     "output_type": "display_data"
    }
   ],
   "source": [
    "sns.lineplot('Discount','Profit',data=df,label=\"Profit vs Discount\")\n",
    "plt.show()"
   ]
  },
  {
   "cell_type": "code",
   "execution_count": null,
   "metadata": {},
   "outputs": [],
   "source": []
  },
  {
   "cell_type": "markdown",
   "metadata": {},
   "source": [
    "insights\n",
    "Profit reduces with increase in discount"
   ]
  },
  {
   "cell_type": "markdown",
   "metadata": {},
   "source": [
    "# conclusion\n",
    "Data set has 9994 records with 13 features.\n",
    "Data set is about country US\n",
    "There were no null values present but 50 duplicate records were present\n",
    "Outliers were present in the dataset\n",
    "profit and discount have negative correlation\n",
    "more than 25% of states dont give discount\n",
    "State with highest profit Vermont gives 0 discount\n",
    "more than 50% count of element from office supply but maximum profit is obtained by technology\n",
    "west region gives maximum profit"
   ]
  }
 ],
 "metadata": {
  "kernelspec": {
   "display_name": "Python 3",
   "language": "python",
   "name": "python3"
  },
  "language_info": {
   "codemirror_mode": {
    "name": "ipython",
    "version": 3
   },
   "file_extension": ".py",
   "mimetype": "text/x-python",
   "name": "python",
   "nbconvert_exporter": "python",
   "pygments_lexer": "ipython3",
   "version": "3.7.6"
  }
 },
 "nbformat": 4,
 "nbformat_minor": 4
}
